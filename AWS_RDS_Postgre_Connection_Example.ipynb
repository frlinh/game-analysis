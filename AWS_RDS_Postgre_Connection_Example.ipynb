{
 "cells": [
  {
   "cell_type": "code",
   "execution_count": 1,
   "id": "8484fafb",
   "metadata": {},
   "outputs": [],
   "source": [
    "import pandas as pd\n",
    "import psycopg2\n",
    "from psycopg2 import sql"
   ]
  },
  {
   "cell_type": "markdown",
   "id": "c44197cd",
   "metadata": {},
   "source": [
    "# AWS RDS Connection"
   ]
  },
  {
   "cell_type": "code",
   "execution_count": 2,
   "id": "af522f51",
   "metadata": {},
   "outputs": [],
   "source": [
    "PGEND_POINT = '' # End_point\n",
    "PGDATABASE_NAME = 'youtube_test_db' # Database Name example: youtube_test_db\n",
    "PGUSER_NAME = 'postgres' # UserName\n",
    "PGPASSWORD = 'asd123qwe' # Password"
   ]
  },
  {
   "cell_type": "code",
   "execution_count": 3,
   "id": "a8a1df41",
   "metadata": {},
   "outputs": [],
   "source": [
    "def connect():\n",
    "    \n",
    "    # Set up a connection to the postgres server.\n",
    "    conn_string = \"host=\"+ PGEND_POINT +\" port=\"+ \"5432\" +\" dbname=\"+ PGDATABASE_NAME +\" user=\" + PGUSER_NAME \\\n",
    "                  +\" password=\"+ PGPASSWORD\n",
    "    \n",
    "    conn = psycopg2.connect(conn_string)\n",
    "    print(\"Connected!\")\n",
    "\n",
    "    # Create a cursor object\n",
    "    cursor = conn.cursor()\n",
    "    \n",
    "    return conn, cursor"
   ]
  },
  {
   "cell_type": "code",
   "execution_count": 4,
   "id": "db10e366",
   "metadata": {},
   "outputs": [
    {
     "ename": "OperationalError",
     "evalue": "could not translate host name \"port=5432\" to address: Unknown host\n",
     "output_type": "error",
     "traceback": [
      "\u001b[1;31m---------------------------------------------------------------------------\u001b[0m",
      "\u001b[1;31mOperationalError\u001b[0m                          Traceback (most recent call last)",
      "\u001b[1;32m~\\AppData\\Local\\Temp\\ipykernel_11496\\957839546.py\u001b[0m in \u001b[0;36m<module>\u001b[1;34m\u001b[0m\n\u001b[1;32m----> 1\u001b[1;33m \u001b[0mconn\u001b[0m\u001b[1;33m,\u001b[0m \u001b[0mcursor\u001b[0m \u001b[1;33m=\u001b[0m \u001b[0mconnect\u001b[0m\u001b[1;33m(\u001b[0m\u001b[1;33m)\u001b[0m\u001b[1;33m\u001b[0m\u001b[1;33m\u001b[0m\u001b[0m\n\u001b[0m",
      "\u001b[1;32m~\\AppData\\Local\\Temp\\ipykernel_11496\\1210329422.py\u001b[0m in \u001b[0;36mconnect\u001b[1;34m()\u001b[0m\n\u001b[0;32m      5\u001b[0m                   \u001b[1;33m+\u001b[0m\u001b[1;34m\" password=\"\u001b[0m\u001b[1;33m+\u001b[0m \u001b[0mPGPASSWORD\u001b[0m\u001b[1;33m\u001b[0m\u001b[1;33m\u001b[0m\u001b[0m\n\u001b[0;32m      6\u001b[0m \u001b[1;33m\u001b[0m\u001b[0m\n\u001b[1;32m----> 7\u001b[1;33m     \u001b[0mconn\u001b[0m \u001b[1;33m=\u001b[0m \u001b[0mpsycopg2\u001b[0m\u001b[1;33m.\u001b[0m\u001b[0mconnect\u001b[0m\u001b[1;33m(\u001b[0m\u001b[0mconn_string\u001b[0m\u001b[1;33m)\u001b[0m\u001b[1;33m\u001b[0m\u001b[1;33m\u001b[0m\u001b[0m\n\u001b[0m\u001b[0;32m      8\u001b[0m     \u001b[0mprint\u001b[0m\u001b[1;33m(\u001b[0m\u001b[1;34m\"Connected!\"\u001b[0m\u001b[1;33m)\u001b[0m\u001b[1;33m\u001b[0m\u001b[1;33m\u001b[0m\u001b[0m\n\u001b[0;32m      9\u001b[0m \u001b[1;33m\u001b[0m\u001b[0m\n",
      "\u001b[1;32m~\\anaconda3\\envs\\mlenv\\lib\\site-packages\\psycopg2\\__init__.py\u001b[0m in \u001b[0;36mconnect\u001b[1;34m(dsn, connection_factory, cursor_factory, **kwargs)\u001b[0m\n\u001b[0;32m    120\u001b[0m \u001b[1;33m\u001b[0m\u001b[0m\n\u001b[0;32m    121\u001b[0m     \u001b[0mdsn\u001b[0m \u001b[1;33m=\u001b[0m \u001b[0m_ext\u001b[0m\u001b[1;33m.\u001b[0m\u001b[0mmake_dsn\u001b[0m\u001b[1;33m(\u001b[0m\u001b[0mdsn\u001b[0m\u001b[1;33m,\u001b[0m \u001b[1;33m**\u001b[0m\u001b[0mkwargs\u001b[0m\u001b[1;33m)\u001b[0m\u001b[1;33m\u001b[0m\u001b[1;33m\u001b[0m\u001b[0m\n\u001b[1;32m--> 122\u001b[1;33m     \u001b[0mconn\u001b[0m \u001b[1;33m=\u001b[0m \u001b[0m_connect\u001b[0m\u001b[1;33m(\u001b[0m\u001b[0mdsn\u001b[0m\u001b[1;33m,\u001b[0m \u001b[0mconnection_factory\u001b[0m\u001b[1;33m=\u001b[0m\u001b[0mconnection_factory\u001b[0m\u001b[1;33m,\u001b[0m \u001b[1;33m**\u001b[0m\u001b[0mkwasync\u001b[0m\u001b[1;33m)\u001b[0m\u001b[1;33m\u001b[0m\u001b[1;33m\u001b[0m\u001b[0m\n\u001b[0m\u001b[0;32m    123\u001b[0m     \u001b[1;32mif\u001b[0m \u001b[0mcursor_factory\u001b[0m \u001b[1;32mis\u001b[0m \u001b[1;32mnot\u001b[0m \u001b[1;32mNone\u001b[0m\u001b[1;33m:\u001b[0m\u001b[1;33m\u001b[0m\u001b[1;33m\u001b[0m\u001b[0m\n\u001b[0;32m    124\u001b[0m         \u001b[0mconn\u001b[0m\u001b[1;33m.\u001b[0m\u001b[0mcursor_factory\u001b[0m \u001b[1;33m=\u001b[0m \u001b[0mcursor_factory\u001b[0m\u001b[1;33m\u001b[0m\u001b[1;33m\u001b[0m\u001b[0m\n",
      "\u001b[1;31mOperationalError\u001b[0m: could not translate host name \"port=5432\" to address: Unknown host\n"
     ]
    }
   ],
   "source": [
    "conn, cursor = connect()"
   ]
  },
  {
   "cell_type": "markdown",
   "id": "7d8a60a0",
   "metadata": {},
   "source": [
    " ## SQL Queries\n",
    " "
   ]
  },
  {
   "cell_type": "code",
   "execution_count": null,
   "id": "bf0d7cb4",
   "metadata": {},
   "outputs": [],
   "source": [
    "# Creating simple table\n",
    "query_food = sql.SQL(\"\"\"CREATE TABLE Menu (\n",
    "  food_id INT NOT NULL,\n",
    "  food_name VARCHAR(30) NOT NULL,\n",
    "  PRIMARY KEY (food_id),\n",
    "  UNIQUE (food_name)\n",
    ");\"\"\")\n",
    "\n"
   ]
  },
  {
   "cell_type": "code",
   "execution_count": null,
   "id": "db6011ff",
   "metadata": {},
   "outputs": [],
   "source": [
    "cur = conn.cursor()\n",
    "cur.execute(query_food)\n",
    "cur.close() # close communication with the PostgreSQL database server\n",
    "conn.commit() # commit the changes"
   ]
  },
  {
   "cell_type": "code",
   "execution_count": null,
   "id": "bedc47a8",
   "metadata": {},
   "outputs": [],
   "source": [
    "# insert data into table\n",
    "query_food_insert = sql.SQL(\"\"\"\n",
    "INSERT INTO Menu \n",
    "    (food_id, food_name) VALUES (1,'Tacos'), (2,'Tomato Soup'),(3,'Grilled Cheese');\n",
    "\"\"\")"
   ]
  },
  {
   "cell_type": "code",
   "execution_count": null,
   "id": "7cb29988",
   "metadata": {},
   "outputs": [],
   "source": [
    "cur = conn.cursor()\n",
    "cur.execute(query_food_insert)\n",
    "cur.close() \n",
    "conn.commit()"
   ]
  },
  {
   "cell_type": "code",
   "execution_count": null,
   "id": "e4966458",
   "metadata": {},
   "outputs": [],
   "source": [
    "# Query the table\n",
    "\n",
    "query_menu = sql.SQL(\"\"\"\n",
    "SELECT * FROM menu;\n",
    "\"\"\")"
   ]
  },
  {
   "cell_type": "code",
   "execution_count": null,
   "id": "a9d0a40f",
   "metadata": {},
   "outputs": [],
   "source": [
    "cur = conn.cursor()\n",
    "cur.execute(query_menu)\n"
   ]
  },
  {
   "cell_type": "code",
   "execution_count": null,
   "id": "be00ea92",
   "metadata": {},
   "outputs": [],
   "source": [
    "print(cur.fetchone())"
   ]
  },
  {
   "cell_type": "code",
   "execution_count": null,
   "id": "3a327d5a",
   "metadata": {},
   "outputs": [],
   "source": [
    "cur = conn.cursor()\n",
    "cur.execute(query_menu)\n",
    "print(cur.fetchall())"
   ]
  },
  {
   "cell_type": "code",
   "execution_count": null,
   "id": "08a1a8bd",
   "metadata": {},
   "outputs": [],
   "source": [
    "cur = conn.cursor()\n",
    "cur.execute(query_menu)\n",
    "rows_to_fetch = 2\n",
    "print(cur.fetchmany(rows_to_fetch))"
   ]
  },
  {
   "cell_type": "code",
   "execution_count": null,
   "id": "7aa619d6",
   "metadata": {},
   "outputs": [],
   "source": [
    "cur.close() \n",
    "conn.commit()"
   ]
  },
  {
   "cell_type": "markdown",
   "id": "7c8332ca",
   "metadata": {},
   "source": [
    "### DataFrame"
   ]
  },
  {
   "cell_type": "code",
   "execution_count": null,
   "id": "7a5ce876",
   "metadata": {},
   "outputs": [],
   "source": [
    "cur = conn.cursor()\n",
    "cur.execute(query_menu)"
   ]
  },
  {
   "cell_type": "code",
   "execution_count": null,
   "id": "8f068e53",
   "metadata": {},
   "outputs": [],
   "source": [
    "df_menu = pd.DataFrame(cur.fetchall(), columns=['food_id', 'food_name'])"
   ]
  },
  {
   "cell_type": "code",
   "execution_count": null,
   "id": "493cd4b7",
   "metadata": {},
   "outputs": [],
   "source": [
    "df_menu"
   ]
  },
  {
   "cell_type": "code",
   "execution_count": null,
   "id": "6fa018cb",
   "metadata": {},
   "outputs": [],
   "source": [
    "cur.close() \n",
    "conn.commit()"
   ]
  },
  {
   "cell_type": "markdown",
   "id": "ec73ccf8",
   "metadata": {},
   "source": [
    "#### Insert dataframe into table"
   ]
  },
  {
   "cell_type": "code",
   "execution_count": null,
   "id": "182f8b64",
   "metadata": {},
   "outputs": [],
   "source": [
    "data = {'Name': ['Tom', 'Jerry', 'harry'],\n",
    "        'Age': [50, 25, 10]}"
   ]
  },
  {
   "cell_type": "code",
   "execution_count": null,
   "id": "8ca53741",
   "metadata": {},
   "outputs": [],
   "source": [
    "df_people = pd.DataFrame(data)"
   ]
  },
  {
   "cell_type": "code",
   "execution_count": null,
   "id": "2f4f5630",
   "metadata": {},
   "outputs": [],
   "source": [
    "df_people"
   ]
  },
  {
   "cell_type": "code",
   "execution_count": null,
   "id": "6913750e",
   "metadata": {},
   "outputs": [],
   "source": [
    "query_people = sql.SQL(\"\"\"CREATE TABLE people (\n",
    "  Name VARCHAR(30) NOT NULL,\n",
    "  Age INT NOT NULL,\n",
    "  PRIMARY KEY (Name),\n",
    "  UNIQUE (Name)\n",
    ");\"\"\")"
   ]
  },
  {
   "cell_type": "code",
   "execution_count": null,
   "id": "21c084be",
   "metadata": {},
   "outputs": [],
   "source": [
    "cur = conn.cursor()\n",
    "cur.execute(query_people)\n",
    "cur.close()\n",
    "conn.commit()"
   ]
  },
  {
   "cell_type": "code",
   "execution_count": null,
   "id": "38f30414",
   "metadata": {},
   "outputs": [],
   "source": [
    "# single insert\n",
    "def single_inserts(conn, df, table):\n",
    "    for i in df.index:\n",
    "        cur = conn.cursor()\n",
    "        cols  = ','.join(list(df.columns))\n",
    "        vals  = [df.at[i,col] for col in list(df.columns)]\n",
    "        query = \"INSERT INTO %s(%s) VALUES('%s',%s)\" % (table, cols, vals[0], vals[1])\n",
    "        cur.execute(query)\n",
    "        cur.close()\n",
    "        conn.commit()\n",
    "    print(\"single insert completed\")\n"
   ]
  },
  {
   "cell_type": "code",
   "execution_count": null,
   "id": "98aad450",
   "metadata": {},
   "outputs": [],
   "source": [
    "single_inserts(conn,df_people,'people')"
   ]
  },
  {
   "cell_type": "code",
   "execution_count": null,
   "id": "5e6d763f",
   "metadata": {},
   "outputs": [],
   "source": [
    "query_people_table = sql.SQL(\"\"\"\n",
    "SELECT * FROM people;\n",
    "\"\"\")"
   ]
  },
  {
   "cell_type": "code",
   "execution_count": null,
   "id": "110c8786",
   "metadata": {},
   "outputs": [],
   "source": [
    "cur = conn.cursor()\n",
    "cur.execute(query_people_table)\n",
    "print(cur.fetchall())\n",
    "cur.close()\n",
    "conn.commit()"
   ]
  },
  {
   "cell_type": "code",
   "execution_count": null,
   "id": "908849f4",
   "metadata": {},
   "outputs": [],
   "source": [
    "# batch insert"
   ]
  },
  {
   "cell_type": "code",
   "execution_count": null,
   "id": "6f90c3c3",
   "metadata": {},
   "outputs": [],
   "source": [
    "apple_df = pd.read_csv('AAPL.csv') # import dataset"
   ]
  },
  {
   "cell_type": "code",
   "execution_count": null,
   "id": "739fd225",
   "metadata": {},
   "outputs": [],
   "source": [
    "apple_df.shape"
   ]
  },
  {
   "cell_type": "code",
   "execution_count": null,
   "id": "57147372",
   "metadata": {},
   "outputs": [],
   "source": [
    "apple_df.sample(5)"
   ]
  },
  {
   "cell_type": "code",
   "execution_count": null,
   "id": "a30cbfa5",
   "metadata": {},
   "outputs": [],
   "source": [
    "query_apple = sql.SQL(\"\"\"CREATE TABLE apple_table (\n",
    "  Date DATE NOT NULL,\n",
    "  Open FLOAT,\n",
    "  High FLOAT,\n",
    "  Low FLOAT,\n",
    "  Close FLOAT,\n",
    "  PRIMARY KEY (Date),\n",
    "  UNIQUE (Date)\n",
    ");\"\"\")"
   ]
  },
  {
   "cell_type": "code",
   "execution_count": null,
   "id": "d71f5a3b",
   "metadata": {},
   "outputs": [],
   "source": [
    "cur = conn.cursor()\n",
    "cur.execute(query_apple)\n",
    "cur.close()\n",
    "conn.commit()"
   ]
  },
  {
   "cell_type": "code",
   "execution_count": null,
   "id": "1ef306a7",
   "metadata": {},
   "outputs": [],
   "source": [
    "def update_many(conn, datafrm, table):\n",
    "    \n",
    "    # Creating a list of tupples from the dataframe values\n",
    "    tpls = [tuple(x) for x in datafrm.to_numpy()]\n",
    "    \n",
    "    # dataframe columns with Comma-separated\n",
    "    cols = ','.join(list(datafrm.columns))\n",
    "    \n",
    "    # SQL query to execute\n",
    "    sql = \"INSERT INTO %s(%s) VALUES(%%s,%%s,%%s,%%s,%%s)\" % (table, cols)\n",
    "    cursor = conn.cursor()\n",
    "    cursor.executemany(sql, tpls)\n",
    "    print(\"Data upload complete successfully...\")\n",
    "    cursor.close()\n",
    "    conn.commit()"
   ]
  },
  {
   "cell_type": "code",
   "execution_count": null,
   "id": "d54e69da",
   "metadata": {},
   "outputs": [],
   "source": [
    "update_many(conn,apple_df,'apple_table')"
   ]
  },
  {
   "cell_type": "code",
   "execution_count": null,
   "id": "fcbd333a",
   "metadata": {},
   "outputs": [],
   "source": [
    "query_apple = sql.SQL(\"\"\"\n",
    "SELECT * FROM apple_table;\n",
    "\"\"\")"
   ]
  },
  {
   "cell_type": "code",
   "execution_count": null,
   "id": "6dc8b028",
   "metadata": {},
   "outputs": [],
   "source": [
    "cur = conn.cursor()\n",
    "cur.execute(query_apple)\n",
    "print(cur.fetchall())\n",
    "cur.close()\n",
    "conn.commit()"
   ]
  },
  {
   "cell_type": "code",
   "execution_count": null,
   "id": "69e33dda",
   "metadata": {},
   "outputs": [],
   "source": [
    "cur = conn.cursor()\n",
    "cur.execute(query_apple)\n",
    "df_new_apple = pd.DataFrame(cur.fetchall(), columns=['Date', 'Open','High','Low','Close'])"
   ]
  },
  {
   "cell_type": "code",
   "execution_count": null,
   "id": "f39ae8d2",
   "metadata": {},
   "outputs": [],
   "source": [
    "df_new_apple.head()"
   ]
  },
  {
   "cell_type": "code",
   "execution_count": null,
   "id": "1eba4943",
   "metadata": {},
   "outputs": [],
   "source": [
    "df_new_apple.shape"
   ]
  },
  {
   "cell_type": "code",
   "execution_count": null,
   "id": "bac4a440",
   "metadata": {},
   "outputs": [],
   "source": [
    "apple_df.shape"
   ]
  },
  {
   "cell_type": "code",
   "execution_count": null,
   "id": "3b99bbb4",
   "metadata": {},
   "outputs": [],
   "source": []
  }
 ],
 "metadata": {
  "kernelspec": {
   "display_name": "Python 3 (ipykernel)",
   "language": "python",
   "name": "python3"
  },
  "language_info": {
   "codemirror_mode": {
    "name": "ipython",
    "version": 3
   },
   "file_extension": ".py",
   "mimetype": "text/x-python",
   "name": "python",
   "nbconvert_exporter": "python",
   "pygments_lexer": "ipython3",
   "version": "3.7.13"
  }
 },
 "nbformat": 4,
 "nbformat_minor": 5
}
