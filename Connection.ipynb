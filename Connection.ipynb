{
 "cells": [
  {
   "cell_type": "code",
   "execution_count": 1,
   "id": "f67cb047",
   "metadata": {},
   "outputs": [],
   "source": [
    "import pandas as pd\n",
    "import psycopg2\n",
    "from psycopg2 import sql"
   ]
  },
  {
   "cell_type": "code",
   "execution_count": 2,
   "id": "8d67daf7",
   "metadata": {},
   "outputs": [],
   "source": [
    "PGEND_POINT = 'gameanalysis.cjhwxnjx5697.us-west-1.rds.amazonaws.com' # End_point\n",
    "PGDATABASE_NAME = 'gameanalysis' # Database Name example: youtube_test_db\n",
    "PGUSER_NAME = 'postgres' # UserName\n",
    "PGPASSWORD = '5}eN^2g0rac3' # Password\""
   ]
  },
  {
   "cell_type": "code",
   "execution_count": 3,
   "id": "ace39f9b",
   "metadata": {},
   "outputs": [],
   "source": [
    "def connect():\n",
    "    \n",
    "    # Set up a connection to the postgres server.\n",
    "    conn_string = \"host=\"+ PGEND_POINT +\" port=\"+ \"5432\" +\" user=\" + PGUSER_NAME \\\n",
    "                  +\" password=\"+ PGPASSWORD\n",
    "    \n",
    "    conn = psycopg2.connect(conn_string)\n",
    "    print(\"Connected!\")\n",
    "\n",
    "    # Create a cursor object\n",
    "    cursor = conn.cursor()\n",
    "    \n",
    "    return conn, cursor"
   ]
  },
  {
   "cell_type": "code",
   "execution_count": 4,
   "id": "e2ed4b4b",
   "metadata": {},
   "outputs": [
    {
     "name": "stdout",
     "output_type": "stream",
     "text": [
      "Connected!\n"
     ]
    }
   ],
   "source": [
    "conn, cursor = connect()"
   ]
  },
  {
   "cell_type": "code",
   "execution_count": 19,
   "id": "2e5e68f7",
   "metadata": {},
   "outputs": [],
   "source": [
    "query_champions = sql.SQL(\"\"\"\n",
    "SELECT id, tag1, tag2 FROM champions;\n",
    "\"\"\")\n",
    "\n",
    "#query_champions = sql.SQL(\"\"\"\n",
    "#SELECT * FROM champions;\n",
    "#\"\"\")"
   ]
  },
  {
   "cell_type": "code",
   "execution_count": 20,
   "id": "369c1a00",
   "metadata": {},
   "outputs": [],
   "source": [
    "cur = conn.cursor()\n",
    "cur.execute(query_champions)"
   ]
  },
  {
   "cell_type": "code",
   "execution_count": 21,
   "id": "70d16f1b",
   "metadata": {},
   "outputs": [],
   "source": [
    "df_champions = pd.DataFrame(cur.fetchall(), columns=['id','tag1', 'tag2'])"
   ]
  },
  {
   "cell_type": "code",
   "execution_count": 22,
   "id": "3482b4dc",
   "metadata": {},
   "outputs": [
    {
     "data": {
      "text/html": [
       "<div>\n",
       "<style scoped>\n",
       "    .dataframe tbody tr th:only-of-type {\n",
       "        vertical-align: middle;\n",
       "    }\n",
       "\n",
       "    .dataframe tbody tr th {\n",
       "        vertical-align: top;\n",
       "    }\n",
       "\n",
       "    .dataframe thead th {\n",
       "        text-align: right;\n",
       "    }\n",
       "</style>\n",
       "<table border=\"1\" class=\"dataframe\">\n",
       "  <thead>\n",
       "    <tr style=\"text-align: right;\">\n",
       "      <th></th>\n",
       "      <th>id</th>\n",
       "      <th>tag1</th>\n",
       "      <th>tag2</th>\n",
       "    </tr>\n",
       "  </thead>\n",
       "  <tbody>\n",
       "    <tr>\n",
       "      <th>0</th>\n",
       "      <td>Annie</td>\n",
       "      <td>Mage</td>\n",
       "      <td>n/a</td>\n",
       "    </tr>\n",
       "    <tr>\n",
       "      <th>1</th>\n",
       "      <td>Olaf</td>\n",
       "      <td>Fighter</td>\n",
       "      <td>Tank</td>\n",
       "    </tr>\n",
       "    <tr>\n",
       "      <th>2</th>\n",
       "      <td>Galio</td>\n",
       "      <td>Tank</td>\n",
       "      <td>Mage</td>\n",
       "    </tr>\n",
       "    <tr>\n",
       "      <th>3</th>\n",
       "      <td>TwistedFate</td>\n",
       "      <td>Mage</td>\n",
       "      <td>n/a</td>\n",
       "    </tr>\n",
       "    <tr>\n",
       "      <th>4</th>\n",
       "      <td>XinZhao</td>\n",
       "      <td>Fighter</td>\n",
       "      <td>Assassin</td>\n",
       "    </tr>\n",
       "    <tr>\n",
       "      <th>...</th>\n",
       "      <td>...</td>\n",
       "      <td>...</td>\n",
       "      <td>...</td>\n",
       "    </tr>\n",
       "    <tr>\n",
       "      <th>145</th>\n",
       "      <td>Aphelios</td>\n",
       "      <td>Marksman</td>\n",
       "      <td>Marksman</td>\n",
       "    </tr>\n",
       "    <tr>\n",
       "      <th>146</th>\n",
       "      <td>Pyke</td>\n",
       "      <td>Support</td>\n",
       "      <td>Assassin</td>\n",
       "    </tr>\n",
       "    <tr>\n",
       "      <th>147</th>\n",
       "      <td>Yone</td>\n",
       "      <td>Assassin</td>\n",
       "      <td>Fighter</td>\n",
       "    </tr>\n",
       "    <tr>\n",
       "      <th>148</th>\n",
       "      <td>Sett</td>\n",
       "      <td>Fighter</td>\n",
       "      <td>Tank</td>\n",
       "    </tr>\n",
       "    <tr>\n",
       "      <th>149</th>\n",
       "      <td>Lillia</td>\n",
       "      <td>Fighter</td>\n",
       "      <td>Mage</td>\n",
       "    </tr>\n",
       "  </tbody>\n",
       "</table>\n",
       "<p>150 rows × 3 columns</p>\n",
       "</div>"
      ],
      "text/plain": [
       "              id      tag1      tag2\n",
       "0          Annie      Mage       n/a\n",
       "1           Olaf   Fighter      Tank\n",
       "2          Galio      Tank      Mage\n",
       "3    TwistedFate      Mage       n/a\n",
       "4        XinZhao   Fighter  Assassin\n",
       "..           ...       ...       ...\n",
       "145     Aphelios  Marksman  Marksman\n",
       "146         Pyke   Support  Assassin\n",
       "147         Yone  Assassin   Fighter\n",
       "148         Sett   Fighter      Tank\n",
       "149       Lillia   Fighter      Mage\n",
       "\n",
       "[150 rows x 3 columns]"
      ]
     },
     "execution_count": 22,
     "metadata": {},
     "output_type": "execute_result"
    }
   ],
   "source": [
    "df_champions"
   ]
  },
  {
   "cell_type": "code",
   "execution_count": 23,
   "id": "6e747c4e",
   "metadata": {},
   "outputs": [],
   "source": [
    "cur.close() \n",
    "conn.commit()"
   ]
  }
 ],
 "metadata": {
  "kernelspec": {
   "display_name": "mlenv",
   "language": "python",
   "name": "mlenv"
  },
  "language_info": {
   "codemirror_mode": {
    "name": "ipython",
    "version": 3
   },
   "file_extension": ".py",
   "mimetype": "text/x-python",
   "name": "python",
   "nbconvert_exporter": "python",
   "pygments_lexer": "ipython3",
   "version": "3.7.13"
  }
 },
 "nbformat": 4,
 "nbformat_minor": 5
}
