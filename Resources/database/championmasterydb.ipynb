{
 "cells": [
  {
   "cell_type": "code",
   "execution_count": 25,
   "id": "64017032",
   "metadata": {},
   "outputs": [],
   "source": [
    "import pandas as pd\n",
    "import numpy as np"
   ]
  },
  {
   "cell_type": "code",
   "execution_count": 30,
   "id": "a0b4cd01",
   "metadata": {},
   "outputs": [],
   "source": [
    "# save csv filepaths\n",
    "diamond_csv = \"csv/diamond_players_trimmed - Sheet1 (1).csv\"\n",
    "master_csv = \"csv/master-league-ranked-5x5.csv\"\n",
    "grandmaster_csv = \"csv/grandmaster-league-ranked-5x5.csv\"\n",
    "challenger_csv = \"csv/challenger-league-ranked-5x5.csv\""
   ]
  },
  {
   "cell_type": "code",
   "execution_count": 34,
   "id": "2bec75ff",
   "metadata": {},
   "outputs": [],
   "source": [
    "# create dataframes for each league\n",
    "diamond_df = pd.read_csv(diamond_csv)\n",
    "master_df = pd.read_csv(master_csv)\n",
    "grandmaster_df = pd.read_csv(grandmaster_csv)\n",
    "challenger_df = pd.read_csv(challenger_csv)"
   ]
  },
  {
   "cell_type": "code",
   "execution_count": 36,
   "id": "f618a852",
   "metadata": {},
   "outputs": [],
   "source": [
    "# confirm all summonerIds are properly populated. "
   ]
  },
  {
   "cell_type": "code",
   "execution_count": 46,
   "id": "58648fbd",
   "metadata": {},
   "outputs": [
    {
     "data": {
      "text/plain": [
       "0"
      ]
     },
     "execution_count": 46,
     "metadata": {},
     "output_type": "execute_result"
    }
   ],
   "source": [
    "# .. Diamond\n",
    "len(diamond_df[diamond_df['summonerId'] == '#NAME?'])"
   ]
  },
  {
   "cell_type": "code",
   "execution_count": 49,
   "id": "b02a826a",
   "metadata": {},
   "outputs": [
    {
     "data": {
      "text/plain": [
       "0"
      ]
     },
     "execution_count": 49,
     "metadata": {},
     "output_type": "execute_result"
    }
   ],
   "source": [
    "# .. Master\n",
    "len(master_df[master_df['summonerId'] == '#NAME?'])"
   ]
  },
  {
   "cell_type": "code",
   "execution_count": 52,
   "id": "8135cfbe",
   "metadata": {},
   "outputs": [
    {
     "data": {
      "text/plain": [
       "0"
      ]
     },
     "execution_count": 52,
     "metadata": {},
     "output_type": "execute_result"
    }
   ],
   "source": [
    "# .. Grandmaster\n",
    "len(grandmaster_df[grandmaster_df['summonerId'] == '#NAME?'])"
   ]
  },
  {
   "cell_type": "code",
   "execution_count": 54,
   "id": "7dd74871",
   "metadata": {},
   "outputs": [
    {
     "data": {
      "text/plain": [
       "0"
      ]
     },
     "execution_count": 54,
     "metadata": {},
     "output_type": "execute_result"
    }
   ],
   "source": [
    "# .. Challenger\n",
    "len(challenger_df[challenger_df['summonerId'] == '#NAME?'])"
   ]
  },
  {
   "cell_type": "code",
   "execution_count": 53,
   "id": "d227817a",
   "metadata": {},
   "outputs": [],
   "source": [
    "# drop any rows with value \"#NAME?\"\n",
    "diamond_df.drop(diamond_df[diamond_df['summonerId'] == '#NAME?'].index, inplace = True)\n",
    "master_df.drop(master_df[master_df['summonerId'] == '#NAME?'].index, inplace = True)\n",
    "grandmaster_df.drop(grandmaster_df[grandmaster_df['summonerId'] == '#NAME?'].index, inplace = True)\n",
    "challenger_df.drop(challenger_df[challenger_df['summonerId'] == '#NAME?'].index, inplace = True)"
   ]
  },
  {
   "cell_type": "code",
   "execution_count": 56,
   "id": "2a9b2a02",
   "metadata": {},
   "outputs": [],
   "source": [
    "# overwrite files with cleaned up versions\n",
    "diamond_df.to_csv(diamond_csv, index = False)\n",
    "master_df.to_csv(master_csv, index = False)\n",
    "grandmaster_df.to_csv(grandmaster_csv, index = False)\n",
    "challenger_df.to_csv(challenger_csv, index = False)"
   ]
  }
 ],
 "metadata": {
  "kernelspec": {
   "display_name": "Python 3 (ipykernel)",
   "language": "python",
   "name": "python3"
  },
  "language_info": {
   "codemirror_mode": {
    "name": "ipython",
    "version": 3
   },
   "file_extension": ".py",
   "mimetype": "text/x-python",
   "name": "python",
   "nbconvert_exporter": "python",
   "pygments_lexer": "ipython3",
   "version": "3.9.12"
  }
 },
 "nbformat": 4,
 "nbformat_minor": 5
}
