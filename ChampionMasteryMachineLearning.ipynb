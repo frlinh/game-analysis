{
  "cells": [
    {
      "cell_type": "markdown",
      "id": "3a5f3c49",
      "metadata": {
        "id": "3a5f3c49"
      },
      "source": [
        "### Q: is the champion easy or difficult to master? "
      ]
    },
    {
      "cell_type": "code",
      "execution_count": 1,
      "id": "507f7187",
      "metadata": {
        "colab": {
          "base_uri": "https://localhost:8080/",
          "height": 357
        },
        "id": "507f7187",
        "outputId": "2099b513-e3ba-4c16-db8c-823f3ef522f3"
      },
      "outputs": [
        {
          "output_type": "execute_result",
          "data": {
            "text/plain": [
              "        Date  championId  championLevel  championPoints   lastPlayTime  \\\n",
              "0  8/27/2022         350              7          136999  1661483549000   \n",
              "1  8/27/2022         117              7          113568  1661644216000   \n",
              "2  8/27/2022         143              7          100598  1660524764000   \n",
              "3  8/27/2022          25              6           90688  1660354753000   \n",
              "4  8/27/2022         147              6           85820  1660539194000   \n",
              "\n",
              "   championPointsSinceLastLevel  championPointsUntilNextLevel  chestGranted  \\\n",
              "0                        115399                             0          True   \n",
              "1                         91968                             0          True   \n",
              "2                         78998                             0          True   \n",
              "3                         69088                             0         False   \n",
              "4                         64220                             0          True   \n",
              "\n",
              "   tokensEarned                                        summonerId  \n",
              "0             0  vBrYfjxI-dF_QLzo6JnZfJCIBs02iRWw2iJUqPOjVjCCWNRb  \n",
              "1             0  vBrYfjxI-dF_QLzo6JnZfJCIBs02iRWw2iJUqPOjVjCCWNRb  \n",
              "2             0  vBrYfjxI-dF_QLzo6JnZfJCIBs02iRWw2iJUqPOjVjCCWNRb  \n",
              "3             0  vBrYfjxI-dF_QLzo6JnZfJCIBs02iRWw2iJUqPOjVjCCWNRb  \n",
              "4             1  vBrYfjxI-dF_QLzo6JnZfJCIBs02iRWw2iJUqPOjVjCCWNRb  "
            ],
            "text/html": [
              "\n",
              "  <div id=\"df-880cbf36-6146-4240-8a60-1eac7d7cfa8b\">\n",
              "    <div class=\"colab-df-container\">\n",
              "      <div>\n",
              "<style scoped>\n",
              "    .dataframe tbody tr th:only-of-type {\n",
              "        vertical-align: middle;\n",
              "    }\n",
              "\n",
              "    .dataframe tbody tr th {\n",
              "        vertical-align: top;\n",
              "    }\n",
              "\n",
              "    .dataframe thead th {\n",
              "        text-align: right;\n",
              "    }\n",
              "</style>\n",
              "<table border=\"1\" class=\"dataframe\">\n",
              "  <thead>\n",
              "    <tr style=\"text-align: right;\">\n",
              "      <th></th>\n",
              "      <th>Date</th>\n",
              "      <th>championId</th>\n",
              "      <th>championLevel</th>\n",
              "      <th>championPoints</th>\n",
              "      <th>lastPlayTime</th>\n",
              "      <th>championPointsSinceLastLevel</th>\n",
              "      <th>championPointsUntilNextLevel</th>\n",
              "      <th>chestGranted</th>\n",
              "      <th>tokensEarned</th>\n",
              "      <th>summonerId</th>\n",
              "    </tr>\n",
              "  </thead>\n",
              "  <tbody>\n",
              "    <tr>\n",
              "      <th>0</th>\n",
              "      <td>8/27/2022</td>\n",
              "      <td>350</td>\n",
              "      <td>7</td>\n",
              "      <td>136999</td>\n",
              "      <td>1661483549000</td>\n",
              "      <td>115399</td>\n",
              "      <td>0</td>\n",
              "      <td>True</td>\n",
              "      <td>0</td>\n",
              "      <td>vBrYfjxI-dF_QLzo6JnZfJCIBs02iRWw2iJUqPOjVjCCWNRb</td>\n",
              "    </tr>\n",
              "    <tr>\n",
              "      <th>1</th>\n",
              "      <td>8/27/2022</td>\n",
              "      <td>117</td>\n",
              "      <td>7</td>\n",
              "      <td>113568</td>\n",
              "      <td>1661644216000</td>\n",
              "      <td>91968</td>\n",
              "      <td>0</td>\n",
              "      <td>True</td>\n",
              "      <td>0</td>\n",
              "      <td>vBrYfjxI-dF_QLzo6JnZfJCIBs02iRWw2iJUqPOjVjCCWNRb</td>\n",
              "    </tr>\n",
              "    <tr>\n",
              "      <th>2</th>\n",
              "      <td>8/27/2022</td>\n",
              "      <td>143</td>\n",
              "      <td>7</td>\n",
              "      <td>100598</td>\n",
              "      <td>1660524764000</td>\n",
              "      <td>78998</td>\n",
              "      <td>0</td>\n",
              "      <td>True</td>\n",
              "      <td>0</td>\n",
              "      <td>vBrYfjxI-dF_QLzo6JnZfJCIBs02iRWw2iJUqPOjVjCCWNRb</td>\n",
              "    </tr>\n",
              "    <tr>\n",
              "      <th>3</th>\n",
              "      <td>8/27/2022</td>\n",
              "      <td>25</td>\n",
              "      <td>6</td>\n",
              "      <td>90688</td>\n",
              "      <td>1660354753000</td>\n",
              "      <td>69088</td>\n",
              "      <td>0</td>\n",
              "      <td>False</td>\n",
              "      <td>0</td>\n",
              "      <td>vBrYfjxI-dF_QLzo6JnZfJCIBs02iRWw2iJUqPOjVjCCWNRb</td>\n",
              "    </tr>\n",
              "    <tr>\n",
              "      <th>4</th>\n",
              "      <td>8/27/2022</td>\n",
              "      <td>147</td>\n",
              "      <td>6</td>\n",
              "      <td>85820</td>\n",
              "      <td>1660539194000</td>\n",
              "      <td>64220</td>\n",
              "      <td>0</td>\n",
              "      <td>True</td>\n",
              "      <td>1</td>\n",
              "      <td>vBrYfjxI-dF_QLzo6JnZfJCIBs02iRWw2iJUqPOjVjCCWNRb</td>\n",
              "    </tr>\n",
              "  </tbody>\n",
              "</table>\n",
              "</div>\n",
              "      <button class=\"colab-df-convert\" onclick=\"convertToInteractive('df-880cbf36-6146-4240-8a60-1eac7d7cfa8b')\"\n",
              "              title=\"Convert this dataframe to an interactive table.\"\n",
              "              style=\"display:none;\">\n",
              "        \n",
              "  <svg xmlns=\"http://www.w3.org/2000/svg\" height=\"24px\"viewBox=\"0 0 24 24\"\n",
              "       width=\"24px\">\n",
              "    <path d=\"M0 0h24v24H0V0z\" fill=\"none\"/>\n",
              "    <path d=\"M18.56 5.44l.94 2.06.94-2.06 2.06-.94-2.06-.94-.94-2.06-.94 2.06-2.06.94zm-11 1L8.5 8.5l.94-2.06 2.06-.94-2.06-.94L8.5 2.5l-.94 2.06-2.06.94zm10 10l.94 2.06.94-2.06 2.06-.94-2.06-.94-.94-2.06-.94 2.06-2.06.94z\"/><path d=\"M17.41 7.96l-1.37-1.37c-.4-.4-.92-.59-1.43-.59-.52 0-1.04.2-1.43.59L10.3 9.45l-7.72 7.72c-.78.78-.78 2.05 0 2.83L4 21.41c.39.39.9.59 1.41.59.51 0 1.02-.2 1.41-.59l7.78-7.78 2.81-2.81c.8-.78.8-2.07 0-2.86zM5.41 20L4 18.59l7.72-7.72 1.47 1.35L5.41 20z\"/>\n",
              "  </svg>\n",
              "      </button>\n",
              "      \n",
              "  <style>\n",
              "    .colab-df-container {\n",
              "      display:flex;\n",
              "      flex-wrap:wrap;\n",
              "      gap: 12px;\n",
              "    }\n",
              "\n",
              "    .colab-df-convert {\n",
              "      background-color: #E8F0FE;\n",
              "      border: none;\n",
              "      border-radius: 50%;\n",
              "      cursor: pointer;\n",
              "      display: none;\n",
              "      fill: #1967D2;\n",
              "      height: 32px;\n",
              "      padding: 0 0 0 0;\n",
              "      width: 32px;\n",
              "    }\n",
              "\n",
              "    .colab-df-convert:hover {\n",
              "      background-color: #E2EBFA;\n",
              "      box-shadow: 0px 1px 2px rgba(60, 64, 67, 0.3), 0px 1px 3px 1px rgba(60, 64, 67, 0.15);\n",
              "      fill: #174EA6;\n",
              "    }\n",
              "\n",
              "    [theme=dark] .colab-df-convert {\n",
              "      background-color: #3B4455;\n",
              "      fill: #D2E3FC;\n",
              "    }\n",
              "\n",
              "    [theme=dark] .colab-df-convert:hover {\n",
              "      background-color: #434B5C;\n",
              "      box-shadow: 0px 1px 3px 1px rgba(0, 0, 0, 0.15);\n",
              "      filter: drop-shadow(0px 1px 2px rgba(0, 0, 0, 0.3));\n",
              "      fill: #FFFFFF;\n",
              "    }\n",
              "  </style>\n",
              "\n",
              "      <script>\n",
              "        const buttonEl =\n",
              "          document.querySelector('#df-880cbf36-6146-4240-8a60-1eac7d7cfa8b button.colab-df-convert');\n",
              "        buttonEl.style.display =\n",
              "          google.colab.kernel.accessAllowed ? 'block' : 'none';\n",
              "\n",
              "        async function convertToInteractive(key) {\n",
              "          const element = document.querySelector('#df-880cbf36-6146-4240-8a60-1eac7d7cfa8b');\n",
              "          const dataTable =\n",
              "            await google.colab.kernel.invokeFunction('convertToInteractive',\n",
              "                                                     [key], {});\n",
              "          if (!dataTable) return;\n",
              "\n",
              "          const docLinkHtml = 'Like what you see? Visit the ' +\n",
              "            '<a target=\"_blank\" href=https://colab.research.google.com/notebooks/data_table.ipynb>data table notebook</a>'\n",
              "            + ' to learn more about interactive tables.';\n",
              "          element.innerHTML = '';\n",
              "          dataTable['output_type'] = 'display_data';\n",
              "          await google.colab.output.renderOutput(dataTable, element);\n",
              "          const docLink = document.createElement('div');\n",
              "          docLink.innerHTML = docLinkHtml;\n",
              "          element.appendChild(docLink);\n",
              "        }\n",
              "      </script>\n",
              "    </div>\n",
              "  </div>\n",
              "  "
            ]
          },
          "metadata": {},
          "execution_count": 1
        }
      ],
      "source": [
        "# Import our dependencies\n",
        "from sklearn.model_selection import train_test_split\n",
        "from sklearn.preprocessing import StandardScaler, OneHotEncoder\n",
        "from sklearn.linear_model import LogisticRegression\n",
        "from sklearn.ensemble import RandomForestClassifier\n",
        "from sklearn.metrics import accuracy_score\n",
        "from sklearn.svm import SVC\n",
        "import pandas as pd\n",
        "import tensorflow as tf\n",
        "\n",
        "# Import our input dataset\n",
        "mastery_df = pd.read_csv('https://raw.githubusercontent.com/frlinh/game-analysis/main/championMasteryBeta.csv')\n",
        "mastery_df.head()"
      ]
    },
    {
      "cell_type": "markdown",
      "id": "a052f74b",
      "metadata": {
        "id": "a052f74b"
      },
      "source": [
        "# Logistic Regression\n",
        "Classification algorithm that can analyze continuous and categorical variables. Predicts the probability of the input data belonging to one of two groups\n",
        "* can be overwhelmed by too much data"
      ]
    },
    {
      "cell_type": "code",
      "execution_count": 2,
      "id": "64dc7ba6",
      "metadata": {
        "colab": {
          "base_uri": "https://localhost:8080/",
          "height": 424
        },
        "id": "64dc7ba6",
        "outputId": "368fd2d1-c727-406d-96ec-8c1915b97443"
      },
      "outputs": [
        {
          "output_type": "execute_result",
          "data": {
            "text/plain": [
              "      championId  championLevel  championPoints  tokensEarned\n",
              "0            350              7          136999             0\n",
              "1            117              7          113568             0\n",
              "2            143              7          100598             0\n",
              "3             25              6           90688             0\n",
              "4            147              6           85820             1\n",
              "...          ...            ...             ...           ...\n",
              "8792          57              1             193             0\n",
              "8793         200              1             171             0\n",
              "8794         268              1             164             0\n",
              "8795          37              1             154             0\n",
              "8796           5              1             133             0\n",
              "\n",
              "[8797 rows x 4 columns]"
            ],
            "text/html": [
              "\n",
              "  <div id=\"df-35c619a9-72ad-4213-93de-e8277d827fc5\">\n",
              "    <div class=\"colab-df-container\">\n",
              "      <div>\n",
              "<style scoped>\n",
              "    .dataframe tbody tr th:only-of-type {\n",
              "        vertical-align: middle;\n",
              "    }\n",
              "\n",
              "    .dataframe tbody tr th {\n",
              "        vertical-align: top;\n",
              "    }\n",
              "\n",
              "    .dataframe thead th {\n",
              "        text-align: right;\n",
              "    }\n",
              "</style>\n",
              "<table border=\"1\" class=\"dataframe\">\n",
              "  <thead>\n",
              "    <tr style=\"text-align: right;\">\n",
              "      <th></th>\n",
              "      <th>championId</th>\n",
              "      <th>championLevel</th>\n",
              "      <th>championPoints</th>\n",
              "      <th>tokensEarned</th>\n",
              "    </tr>\n",
              "  </thead>\n",
              "  <tbody>\n",
              "    <tr>\n",
              "      <th>0</th>\n",
              "      <td>350</td>\n",
              "      <td>7</td>\n",
              "      <td>136999</td>\n",
              "      <td>0</td>\n",
              "    </tr>\n",
              "    <tr>\n",
              "      <th>1</th>\n",
              "      <td>117</td>\n",
              "      <td>7</td>\n",
              "      <td>113568</td>\n",
              "      <td>0</td>\n",
              "    </tr>\n",
              "    <tr>\n",
              "      <th>2</th>\n",
              "      <td>143</td>\n",
              "      <td>7</td>\n",
              "      <td>100598</td>\n",
              "      <td>0</td>\n",
              "    </tr>\n",
              "    <tr>\n",
              "      <th>3</th>\n",
              "      <td>25</td>\n",
              "      <td>6</td>\n",
              "      <td>90688</td>\n",
              "      <td>0</td>\n",
              "    </tr>\n",
              "    <tr>\n",
              "      <th>4</th>\n",
              "      <td>147</td>\n",
              "      <td>6</td>\n",
              "      <td>85820</td>\n",
              "      <td>1</td>\n",
              "    </tr>\n",
              "    <tr>\n",
              "      <th>...</th>\n",
              "      <td>...</td>\n",
              "      <td>...</td>\n",
              "      <td>...</td>\n",
              "      <td>...</td>\n",
              "    </tr>\n",
              "    <tr>\n",
              "      <th>8792</th>\n",
              "      <td>57</td>\n",
              "      <td>1</td>\n",
              "      <td>193</td>\n",
              "      <td>0</td>\n",
              "    </tr>\n",
              "    <tr>\n",
              "      <th>8793</th>\n",
              "      <td>200</td>\n",
              "      <td>1</td>\n",
              "      <td>171</td>\n",
              "      <td>0</td>\n",
              "    </tr>\n",
              "    <tr>\n",
              "      <th>8794</th>\n",
              "      <td>268</td>\n",
              "      <td>1</td>\n",
              "      <td>164</td>\n",
              "      <td>0</td>\n",
              "    </tr>\n",
              "    <tr>\n",
              "      <th>8795</th>\n",
              "      <td>37</td>\n",
              "      <td>1</td>\n",
              "      <td>154</td>\n",
              "      <td>0</td>\n",
              "    </tr>\n",
              "    <tr>\n",
              "      <th>8796</th>\n",
              "      <td>5</td>\n",
              "      <td>1</td>\n",
              "      <td>133</td>\n",
              "      <td>0</td>\n",
              "    </tr>\n",
              "  </tbody>\n",
              "</table>\n",
              "<p>8797 rows × 4 columns</p>\n",
              "</div>\n",
              "      <button class=\"colab-df-convert\" onclick=\"convertToInteractive('df-35c619a9-72ad-4213-93de-e8277d827fc5')\"\n",
              "              title=\"Convert this dataframe to an interactive table.\"\n",
              "              style=\"display:none;\">\n",
              "        \n",
              "  <svg xmlns=\"http://www.w3.org/2000/svg\" height=\"24px\"viewBox=\"0 0 24 24\"\n",
              "       width=\"24px\">\n",
              "    <path d=\"M0 0h24v24H0V0z\" fill=\"none\"/>\n",
              "    <path d=\"M18.56 5.44l.94 2.06.94-2.06 2.06-.94-2.06-.94-.94-2.06-.94 2.06-2.06.94zm-11 1L8.5 8.5l.94-2.06 2.06-.94-2.06-.94L8.5 2.5l-.94 2.06-2.06.94zm10 10l.94 2.06.94-2.06 2.06-.94-2.06-.94-.94-2.06-.94 2.06-2.06.94z\"/><path d=\"M17.41 7.96l-1.37-1.37c-.4-.4-.92-.59-1.43-.59-.52 0-1.04.2-1.43.59L10.3 9.45l-7.72 7.72c-.78.78-.78 2.05 0 2.83L4 21.41c.39.39.9.59 1.41.59.51 0 1.02-.2 1.41-.59l7.78-7.78 2.81-2.81c.8-.78.8-2.07 0-2.86zM5.41 20L4 18.59l7.72-7.72 1.47 1.35L5.41 20z\"/>\n",
              "  </svg>\n",
              "      </button>\n",
              "      \n",
              "  <style>\n",
              "    .colab-df-container {\n",
              "      display:flex;\n",
              "      flex-wrap:wrap;\n",
              "      gap: 12px;\n",
              "    }\n",
              "\n",
              "    .colab-df-convert {\n",
              "      background-color: #E8F0FE;\n",
              "      border: none;\n",
              "      border-radius: 50%;\n",
              "      cursor: pointer;\n",
              "      display: none;\n",
              "      fill: #1967D2;\n",
              "      height: 32px;\n",
              "      padding: 0 0 0 0;\n",
              "      width: 32px;\n",
              "    }\n",
              "\n",
              "    .colab-df-convert:hover {\n",
              "      background-color: #E2EBFA;\n",
              "      box-shadow: 0px 1px 2px rgba(60, 64, 67, 0.3), 0px 1px 3px 1px rgba(60, 64, 67, 0.15);\n",
              "      fill: #174EA6;\n",
              "    }\n",
              "\n",
              "    [theme=dark] .colab-df-convert {\n",
              "      background-color: #3B4455;\n",
              "      fill: #D2E3FC;\n",
              "    }\n",
              "\n",
              "    [theme=dark] .colab-df-convert:hover {\n",
              "      background-color: #434B5C;\n",
              "      box-shadow: 0px 1px 3px 1px rgba(0, 0, 0, 0.15);\n",
              "      filter: drop-shadow(0px 1px 2px rgba(0, 0, 0, 0.3));\n",
              "      fill: #FFFFFF;\n",
              "    }\n",
              "  </style>\n",
              "\n",
              "      <script>\n",
              "        const buttonEl =\n",
              "          document.querySelector('#df-35c619a9-72ad-4213-93de-e8277d827fc5 button.colab-df-convert');\n",
              "        buttonEl.style.display =\n",
              "          google.colab.kernel.accessAllowed ? 'block' : 'none';\n",
              "\n",
              "        async function convertToInteractive(key) {\n",
              "          const element = document.querySelector('#df-35c619a9-72ad-4213-93de-e8277d827fc5');\n",
              "          const dataTable =\n",
              "            await google.colab.kernel.invokeFunction('convertToInteractive',\n",
              "                                                     [key], {});\n",
              "          if (!dataTable) return;\n",
              "\n",
              "          const docLinkHtml = 'Like what you see? Visit the ' +\n",
              "            '<a target=\"_blank\" href=https://colab.research.google.com/notebooks/data_table.ipynb>data table notebook</a>'\n",
              "            + ' to learn more about interactive tables.';\n",
              "          element.innerHTML = '';\n",
              "          dataTable['output_type'] = 'display_data';\n",
              "          await google.colab.output.renderOutput(dataTable, element);\n",
              "          const docLink = document.createElement('div');\n",
              "          docLink.innerHTML = docLinkHtml;\n",
              "          element.appendChild(docLink);\n",
              "        }\n",
              "      </script>\n",
              "    </div>\n",
              "  </div>\n",
              "  "
            ]
          },
          "metadata": {},
          "execution_count": 2
        }
      ],
      "source": [
        "cleaned_mastery_df = mastery_df.drop(columns=['Date', 'lastPlayTime', 'championPointsSinceLastLevel', 'championPointsUntilNextLevel', 'chestGranted', 'chestGranted', 'summonerId'])\n",
        "# cleaned_mastery_df = mastery_df.drop(columns='lastPlayTime')\n",
        "# cleaned_mastery_df = mastery_df.drop(columns='championPointsSinceLastLevel')\n",
        "# mastery_df = mastery_df.drop(columns='championPointsUntilNextLevel')\n",
        "# mastery_df = mastery_df.drop(columns='chestGranted')\n",
        "# mastery_df = mastery_df.drop(columns='summonerId')\n",
        "cleaned_mastery_df"
      ]
    },
    {
      "cell_type": "code",
      "source": [
        "cleaned_mastery_df.dtypes"
      ],
      "metadata": {
        "colab": {
          "base_uri": "https://localhost:8080/"
        },
        "id": "cBESGqQ_jXQ2",
        "outputId": "d81356fd-fac8-48dc-e309-bd00463f1271"
      },
      "id": "cBESGqQ_jXQ2",
      "execution_count": 3,
      "outputs": [
        {
          "output_type": "execute_result",
          "data": {
            "text/plain": [
              "championId        int64\n",
              "championLevel     int64\n",
              "championPoints    int64\n",
              "tokensEarned      int64\n",
              "dtype: object"
            ]
          },
          "metadata": {},
          "execution_count": 3
        }
      ]
    },
    {
      "cell_type": "code",
      "source": [
        "cleaned_mastery_df.describe()"
      ],
      "metadata": {
        "colab": {
          "base_uri": "https://localhost:8080/",
          "height": 300
        },
        "id": "2ahPeG0BjQCQ",
        "outputId": "61af00bc-24e0-42cf-83f2-84ca0b1657f9"
      },
      "id": "2ahPeG0BjQCQ",
      "execution_count": 4,
      "outputs": [
        {
          "output_type": "execute_result",
          "data": {
            "text/plain": [
              "        championId  championLevel  championPoints  tokensEarned\n",
              "count  8797.000000    8797.000000    8.797000e+03   8797.000000\n",
              "mean    144.514266       2.571217    1.626137e+04      0.105718\n",
              "std     176.282548       1.728392    6.370754e+04      0.440359\n",
              "min       1.000000       1.000000    6.600000e+01      0.000000\n",
              "25%      37.000000       1.000000    1.035000e+03      0.000000\n",
              "50%      85.000000       2.000000    3.713000e+03      0.000000\n",
              "75%     157.000000       3.000000    1.182900e+04      0.000000\n",
              "max     895.000000       7.000000    2.056376e+06      3.000000"
            ],
            "text/html": [
              "\n",
              "  <div id=\"df-fa3d8e6c-333f-4bca-b608-d99901b635d0\">\n",
              "    <div class=\"colab-df-container\">\n",
              "      <div>\n",
              "<style scoped>\n",
              "    .dataframe tbody tr th:only-of-type {\n",
              "        vertical-align: middle;\n",
              "    }\n",
              "\n",
              "    .dataframe tbody tr th {\n",
              "        vertical-align: top;\n",
              "    }\n",
              "\n",
              "    .dataframe thead th {\n",
              "        text-align: right;\n",
              "    }\n",
              "</style>\n",
              "<table border=\"1\" class=\"dataframe\">\n",
              "  <thead>\n",
              "    <tr style=\"text-align: right;\">\n",
              "      <th></th>\n",
              "      <th>championId</th>\n",
              "      <th>championLevel</th>\n",
              "      <th>championPoints</th>\n",
              "      <th>tokensEarned</th>\n",
              "    </tr>\n",
              "  </thead>\n",
              "  <tbody>\n",
              "    <tr>\n",
              "      <th>count</th>\n",
              "      <td>8797.000000</td>\n",
              "      <td>8797.000000</td>\n",
              "      <td>8.797000e+03</td>\n",
              "      <td>8797.000000</td>\n",
              "    </tr>\n",
              "    <tr>\n",
              "      <th>mean</th>\n",
              "      <td>144.514266</td>\n",
              "      <td>2.571217</td>\n",
              "      <td>1.626137e+04</td>\n",
              "      <td>0.105718</td>\n",
              "    </tr>\n",
              "    <tr>\n",
              "      <th>std</th>\n",
              "      <td>176.282548</td>\n",
              "      <td>1.728392</td>\n",
              "      <td>6.370754e+04</td>\n",
              "      <td>0.440359</td>\n",
              "    </tr>\n",
              "    <tr>\n",
              "      <th>min</th>\n",
              "      <td>1.000000</td>\n",
              "      <td>1.000000</td>\n",
              "      <td>6.600000e+01</td>\n",
              "      <td>0.000000</td>\n",
              "    </tr>\n",
              "    <tr>\n",
              "      <th>25%</th>\n",
              "      <td>37.000000</td>\n",
              "      <td>1.000000</td>\n",
              "      <td>1.035000e+03</td>\n",
              "      <td>0.000000</td>\n",
              "    </tr>\n",
              "    <tr>\n",
              "      <th>50%</th>\n",
              "      <td>85.000000</td>\n",
              "      <td>2.000000</td>\n",
              "      <td>3.713000e+03</td>\n",
              "      <td>0.000000</td>\n",
              "    </tr>\n",
              "    <tr>\n",
              "      <th>75%</th>\n",
              "      <td>157.000000</td>\n",
              "      <td>3.000000</td>\n",
              "      <td>1.182900e+04</td>\n",
              "      <td>0.000000</td>\n",
              "    </tr>\n",
              "    <tr>\n",
              "      <th>max</th>\n",
              "      <td>895.000000</td>\n",
              "      <td>7.000000</td>\n",
              "      <td>2.056376e+06</td>\n",
              "      <td>3.000000</td>\n",
              "    </tr>\n",
              "  </tbody>\n",
              "</table>\n",
              "</div>\n",
              "      <button class=\"colab-df-convert\" onclick=\"convertToInteractive('df-fa3d8e6c-333f-4bca-b608-d99901b635d0')\"\n",
              "              title=\"Convert this dataframe to an interactive table.\"\n",
              "              style=\"display:none;\">\n",
              "        \n",
              "  <svg xmlns=\"http://www.w3.org/2000/svg\" height=\"24px\"viewBox=\"0 0 24 24\"\n",
              "       width=\"24px\">\n",
              "    <path d=\"M0 0h24v24H0V0z\" fill=\"none\"/>\n",
              "    <path d=\"M18.56 5.44l.94 2.06.94-2.06 2.06-.94-2.06-.94-.94-2.06-.94 2.06-2.06.94zm-11 1L8.5 8.5l.94-2.06 2.06-.94-2.06-.94L8.5 2.5l-.94 2.06-2.06.94zm10 10l.94 2.06.94-2.06 2.06-.94-2.06-.94-.94-2.06-.94 2.06-2.06.94z\"/><path d=\"M17.41 7.96l-1.37-1.37c-.4-.4-.92-.59-1.43-.59-.52 0-1.04.2-1.43.59L10.3 9.45l-7.72 7.72c-.78.78-.78 2.05 0 2.83L4 21.41c.39.39.9.59 1.41.59.51 0 1.02-.2 1.41-.59l7.78-7.78 2.81-2.81c.8-.78.8-2.07 0-2.86zM5.41 20L4 18.59l7.72-7.72 1.47 1.35L5.41 20z\"/>\n",
              "  </svg>\n",
              "      </button>\n",
              "      \n",
              "  <style>\n",
              "    .colab-df-container {\n",
              "      display:flex;\n",
              "      flex-wrap:wrap;\n",
              "      gap: 12px;\n",
              "    }\n",
              "\n",
              "    .colab-df-convert {\n",
              "      background-color: #E8F0FE;\n",
              "      border: none;\n",
              "      border-radius: 50%;\n",
              "      cursor: pointer;\n",
              "      display: none;\n",
              "      fill: #1967D2;\n",
              "      height: 32px;\n",
              "      padding: 0 0 0 0;\n",
              "      width: 32px;\n",
              "    }\n",
              "\n",
              "    .colab-df-convert:hover {\n",
              "      background-color: #E2EBFA;\n",
              "      box-shadow: 0px 1px 2px rgba(60, 64, 67, 0.3), 0px 1px 3px 1px rgba(60, 64, 67, 0.15);\n",
              "      fill: #174EA6;\n",
              "    }\n",
              "\n",
              "    [theme=dark] .colab-df-convert {\n",
              "      background-color: #3B4455;\n",
              "      fill: #D2E3FC;\n",
              "    }\n",
              "\n",
              "    [theme=dark] .colab-df-convert:hover {\n",
              "      background-color: #434B5C;\n",
              "      box-shadow: 0px 1px 3px 1px rgba(0, 0, 0, 0.15);\n",
              "      filter: drop-shadow(0px 1px 2px rgba(0, 0, 0, 0.3));\n",
              "      fill: #FFFFFF;\n",
              "    }\n",
              "  </style>\n",
              "\n",
              "      <script>\n",
              "        const buttonEl =\n",
              "          document.querySelector('#df-fa3d8e6c-333f-4bca-b608-d99901b635d0 button.colab-df-convert');\n",
              "        buttonEl.style.display =\n",
              "          google.colab.kernel.accessAllowed ? 'block' : 'none';\n",
              "\n",
              "        async function convertToInteractive(key) {\n",
              "          const element = document.querySelector('#df-fa3d8e6c-333f-4bca-b608-d99901b635d0');\n",
              "          const dataTable =\n",
              "            await google.colab.kernel.invokeFunction('convertToInteractive',\n",
              "                                                     [key], {});\n",
              "          if (!dataTable) return;\n",
              "\n",
              "          const docLinkHtml = 'Like what you see? Visit the ' +\n",
              "            '<a target=\"_blank\" href=https://colab.research.google.com/notebooks/data_table.ipynb>data table notebook</a>'\n",
              "            + ' to learn more about interactive tables.';\n",
              "          element.innerHTML = '';\n",
              "          dataTable['output_type'] = 'display_data';\n",
              "          await google.colab.output.renderOutput(dataTable, element);\n",
              "          const docLink = document.createElement('div');\n",
              "          docLink.innerHTML = docLinkHtml;\n",
              "          element.appendChild(docLink);\n",
              "        }\n",
              "      </script>\n",
              "    </div>\n",
              "  </div>\n",
              "  "
            ]
          },
          "metadata": {},
          "execution_count": 4
        }
      ]
    },
    {
      "cell_type": "code",
      "execution_count": 5,
      "id": "7946015d",
      "metadata": {
        "id": "7946015d"
      },
      "outputs": [],
      "source": [
        "#define x and y\n",
        "X = cleaned_mastery_df.drop(columns='championLevel')\n",
        "y= cleaned_mastery_df.championLevel\n",
        "\n",
        "#split training/test data\n",
        "X_train, X_test, y_train, y_test = train_test_split(X,y,random_state=1, stratify=y)"
      ]
    },
    {
      "cell_type": "code",
      "execution_count": 6,
      "id": "8bad8d6f",
      "metadata": {
        "id": "8bad8d6f"
      },
      "outputs": [],
      "source": [
        "# Create a StandardScaler instance\n",
        "scaler = StandardScaler()\n",
        "\n",
        "# Fit the StandardScaler\n",
        "X_scaler = scaler.fit(X_train)\n",
        "\n",
        "# Scale the data\n",
        "X_train_scaled = X_scaler.transform(X_train)\n",
        "X_test_scaled = X_scaler.transform(X_test)"
      ]
    },
    {
      "cell_type": "code",
      "execution_count": 7,
      "id": "393a722f",
      "metadata": {
        "colab": {
          "base_uri": "https://localhost:8080/"
        },
        "id": "393a722f",
        "outputId": "8f2ef66a-3600-45b9-a7da-8922f6f36b56"
      },
      "outputs": [
        {
          "output_type": "stream",
          "name": "stdout",
          "text": [
            " Logistic regression model accuracy: 0.446\n"
          ]
        },
        {
          "output_type": "stream",
          "name": "stderr",
          "text": [
            "/usr/local/lib/python3.7/dist-packages/sklearn/linear_model/_logistic.py:818: ConvergenceWarning: lbfgs failed to converge (status=1):\n",
            "STOP: TOTAL NO. of ITERATIONS REACHED LIMIT.\n",
            "\n",
            "Increase the number of iterations (max_iter) or scale the data as shown in:\n",
            "    https://scikit-learn.org/stable/modules/preprocessing.html\n",
            "Please also refer to the documentation for alternative solver options:\n",
            "    https://scikit-learn.org/stable/modules/linear_model.html#logistic-regression\n",
            "  extra_warning_msg=_LOGISTIC_SOLVER_CONVERGENCE_MSG,\n"
          ]
        }
      ],
      "source": [
        "# Define the logistic regression model\n",
        "log_classifier = LogisticRegression(solver=\"lbfgs\",max_iter=200)\n",
        "\n",
        "# Train the model\n",
        "log_classifier.fit(X_train,y_train)\n",
        "\n",
        "# Evaluate the model\n",
        "y_pred = log_classifier.predict(X_test)\n",
        "print(f\" Logistic regression model accuracy: {accuracy_score(y_test,y_pred):.3f}\")"
      ]
    },
    {
      "cell_type": "markdown",
      "id": "542ba070",
      "metadata": {
        "id": "542ba070"
      },
      "source": [
        "# vs. Basic Neural Network\n",
        "* prone to overfitting and can be more difficult to train than a logistic regression model \n",
        "* thrives with a lot of data"
      ]
    },
    {
      "cell_type": "code",
      "execution_count": 8,
      "id": "91a6525a",
      "metadata": {
        "colab": {
          "base_uri": "https://localhost:8080/"
        },
        "id": "91a6525a",
        "outputId": "9e756d4e-9bd7-4fe9-d462-1f1affca3a33"
      },
      "outputs": [
        {
          "output_type": "stream",
          "name": "stdout",
          "text": [
            "Epoch 1/50\n",
            "207/207 [==============================] - 2s 4ms/step - loss: -0.6477 - accuracy: 0.3453\n",
            "Epoch 2/50\n",
            "207/207 [==============================] - 1s 3ms/step - loss: -5.2122 - accuracy: 0.3524\n",
            "Epoch 3/50\n",
            "207/207 [==============================] - 1s 4ms/step - loss: -13.5349 - accuracy: 0.3524\n",
            "Epoch 4/50\n",
            "207/207 [==============================] - 1s 4ms/step - loss: -26.9757 - accuracy: 0.3524\n",
            "Epoch 5/50\n",
            "207/207 [==============================] - 1s 3ms/step - loss: -46.1920 - accuracy: 0.3524\n",
            "Epoch 6/50\n",
            "207/207 [==============================] - 1s 4ms/step - loss: -70.2401 - accuracy: 0.3524\n",
            "Epoch 7/50\n",
            "207/207 [==============================] - 1s 3ms/step - loss: -98.2380 - accuracy: 0.3524\n",
            "Epoch 8/50\n",
            "207/207 [==============================] - 1s 3ms/step - loss: -129.9086 - accuracy: 0.3524\n",
            "Epoch 9/50\n",
            "207/207 [==============================] - 1s 4ms/step - loss: -165.1861 - accuracy: 0.3524\n",
            "Epoch 10/50\n",
            "207/207 [==============================] - 1s 3ms/step - loss: -203.6365 - accuracy: 0.3524\n",
            "Epoch 11/50\n",
            "207/207 [==============================] - 0s 2ms/step - loss: -245.1342 - accuracy: 0.3524\n",
            "Epoch 12/50\n",
            "207/207 [==============================] - 0s 2ms/step - loss: -289.9635 - accuracy: 0.3524\n",
            "Epoch 13/50\n",
            "207/207 [==============================] - 0s 2ms/step - loss: -337.6687 - accuracy: 0.3524\n",
            "Epoch 14/50\n",
            "207/207 [==============================] - 0s 2ms/step - loss: -388.5115 - accuracy: 0.3524\n",
            "Epoch 15/50\n",
            "207/207 [==============================] - 0s 2ms/step - loss: -441.4331 - accuracy: 0.3524\n",
            "Epoch 16/50\n",
            "207/207 [==============================] - 0s 2ms/step - loss: -497.0379 - accuracy: 0.3524\n",
            "Epoch 17/50\n",
            "207/207 [==============================] - 0s 2ms/step - loss: -555.6910 - accuracy: 0.3524\n",
            "Epoch 18/50\n",
            "207/207 [==============================] - 0s 2ms/step - loss: -616.7082 - accuracy: 0.3524\n",
            "Epoch 19/50\n",
            "207/207 [==============================] - 0s 2ms/step - loss: -679.8138 - accuracy: 0.3524\n",
            "Epoch 20/50\n",
            "207/207 [==============================] - 0s 2ms/step - loss: -745.5859 - accuracy: 0.3524\n",
            "Epoch 21/50\n",
            "207/207 [==============================] - 0s 2ms/step - loss: -813.7599 - accuracy: 0.3524\n",
            "Epoch 22/50\n",
            "207/207 [==============================] - 0s 2ms/step - loss: -884.7206 - accuracy: 0.3524\n",
            "Epoch 23/50\n",
            "207/207 [==============================] - 0s 2ms/step - loss: -957.8994 - accuracy: 0.3524\n",
            "Epoch 24/50\n",
            "207/207 [==============================] - 0s 2ms/step - loss: -1033.2709 - accuracy: 0.3524\n",
            "Epoch 25/50\n",
            "207/207 [==============================] - 0s 2ms/step - loss: -1111.0688 - accuracy: 0.3524\n",
            "Epoch 26/50\n",
            "207/207 [==============================] - 0s 2ms/step - loss: -1191.0952 - accuracy: 0.3524\n",
            "Epoch 27/50\n",
            "207/207 [==============================] - 0s 2ms/step - loss: -1273.6353 - accuracy: 0.3524\n",
            "Epoch 28/50\n",
            "207/207 [==============================] - 0s 2ms/step - loss: -1358.4087 - accuracy: 0.3524\n",
            "Epoch 29/50\n",
            "207/207 [==============================] - 0s 2ms/step - loss: -1445.5409 - accuracy: 0.3524\n",
            "Epoch 30/50\n",
            "207/207 [==============================] - 0s 2ms/step - loss: -1534.7828 - accuracy: 0.3524\n",
            "Epoch 31/50\n",
            "207/207 [==============================] - 0s 2ms/step - loss: -1626.1492 - accuracy: 0.3524\n",
            "Epoch 32/50\n",
            "207/207 [==============================] - 0s 2ms/step - loss: -1720.1399 - accuracy: 0.3524\n",
            "Epoch 33/50\n",
            "207/207 [==============================] - 0s 2ms/step - loss: -1816.3184 - accuracy: 0.3524\n",
            "Epoch 34/50\n",
            "207/207 [==============================] - 0s 2ms/step - loss: -1914.4187 - accuracy: 0.3524\n",
            "Epoch 35/50\n",
            "207/207 [==============================] - 0s 2ms/step - loss: -2014.8307 - accuracy: 0.3524\n",
            "Epoch 36/50\n",
            "207/207 [==============================] - 0s 2ms/step - loss: -2117.4065 - accuracy: 0.3524\n",
            "Epoch 37/50\n",
            "207/207 [==============================] - 0s 2ms/step - loss: -2222.4192 - accuracy: 0.3524\n",
            "Epoch 38/50\n",
            "207/207 [==============================] - 0s 2ms/step - loss: -2329.5039 - accuracy: 0.3524\n",
            "Epoch 39/50\n",
            "207/207 [==============================] - 0s 2ms/step - loss: -2438.2380 - accuracy: 0.3524\n",
            "Epoch 40/50\n",
            "207/207 [==============================] - 0s 2ms/step - loss: -2549.4883 - accuracy: 0.3524\n",
            "Epoch 41/50\n",
            "207/207 [==============================] - 0s 2ms/step - loss: -2663.2202 - accuracy: 0.3524\n",
            "Epoch 42/50\n",
            "207/207 [==============================] - 0s 2ms/step - loss: -2778.6494 - accuracy: 0.3524\n",
            "Epoch 43/50\n",
            "207/207 [==============================] - 0s 2ms/step - loss: -2896.2971 - accuracy: 0.3524\n",
            "Epoch 44/50\n",
            "207/207 [==============================] - 0s 2ms/step - loss: -3016.2124 - accuracy: 0.3524\n",
            "Epoch 45/50\n",
            "207/207 [==============================] - 0s 2ms/step - loss: -3138.4529 - accuracy: 0.3524\n",
            "Epoch 46/50\n",
            "207/207 [==============================] - 0s 2ms/step - loss: -3262.7112 - accuracy: 0.3524\n",
            "Epoch 47/50\n",
            "207/207 [==============================] - 0s 2ms/step - loss: -3389.5095 - accuracy: 0.3524\n",
            "Epoch 48/50\n",
            "207/207 [==============================] - 0s 2ms/step - loss: -3519.4236 - accuracy: 0.3524\n",
            "Epoch 49/50\n",
            "207/207 [==============================] - 0s 2ms/step - loss: -3649.9727 - accuracy: 0.3524\n",
            "Epoch 50/50\n",
            "207/207 [==============================] - 0s 2ms/step - loss: -3782.4619 - accuracy: 0.3524\n",
            "69/69 - 0s - loss: -3.9511e+03 - accuracy: 0.3523 - 210ms/epoch - 3ms/step\n",
            "Loss: -3951.1455078125, Accuracy: 0.35227271914482117\n"
          ]
        }
      ],
      "source": [
        "# Define the basic neural network model\n",
        "nn_model = tf.keras.models.Sequential()\n",
        "nn_model.add(tf.keras.layers.Dense(units=16, activation=\"relu\", input_dim=3))\n",
        "nn_model.add(tf.keras.layers.Dense(units=1, activation=\"sigmoid\"))\n",
        "\n",
        "# Compile the Sequential model together and customize metrics\n",
        "nn_model.compile(loss=\"binary_crossentropy\", optimizer=\"adam\", metrics=[\"accuracy\"])\n",
        "\n",
        "# Train the model\n",
        "fit_model = nn_model.fit(X_train_scaled, y_train, epochs=50)\n",
        "\n",
        "# Evaluate the model using the test data\n",
        "model_loss, model_accuracy = nn_model.evaluate(X_test_scaled,y_test,verbose=2)\n",
        "print(f\"Loss: {model_loss}, Accuracy: {model_accuracy}\")"
      ]
    },
    {
      "cell_type": "code",
      "source": [],
      "metadata": {
        "id": "SDGTeoWIk7Jq"
      },
      "id": "SDGTeoWIk7Jq",
      "execution_count": 8,
      "outputs": []
    },
    {
      "cell_type": "markdown",
      "id": "61b29245",
      "metadata": {
        "id": "61b29245"
      },
      "source": [
        "# Support Vector Machine (SVM)\n",
        "binary classifier that distinguishes data points from 2 separate groups. tries to maximize the distance between the 2 closest data points of the groups.\n",
        "* can build adequate models with linear/nonlinear data unlike logistic regression\n",
        "* can analyze and interpret multiple data types\n",
        "* less prone to overfitting "
      ]
    },
    {
      "cell_type": "code",
      "execution_count": 9,
      "id": "6e6daaec",
      "metadata": {
        "colab": {
          "base_uri": "https://localhost:8080/"
        },
        "id": "6e6daaec",
        "outputId": "ac1b01b9-1db1-4682-dd46-f83bd8cc12c2"
      },
      "outputs": [
        {
          "output_type": "execute_result",
          "data": {
            "text/plain": [
              "championId         161\n",
              "championLevel        7\n",
              "championPoints    6288\n",
              "tokensEarned         4\n",
              "dtype: int64"
            ]
          },
          "metadata": {},
          "execution_count": 9
        }
      ],
      "source": [
        "#check the # of unique items in each column\n",
        "cleaned_mastery_df.nunique()\n",
        "\n",
        "#bucket championLevel\n",
        "\n",
        "#bucket championPoints\n",
        "\n",
        "#bucket lastPlayTime\n",
        "\n",
        "#bucket championPointsSinceLastLevel\n",
        "\n",
        "#bucket championPointsUntilNextLevel"
      ]
    },
    {
      "cell_type": "code",
      "execution_count": 10,
      "id": "bde1c506",
      "metadata": {
        "colab": {
          "base_uri": "https://localhost:8080/",
          "height": 435
        },
        "id": "bde1c506",
        "outputId": "eb2dcc5d-ad3b-4c3c-b6d4-0dddf4ce1716"
      },
      "outputs": [
        {
          "output_type": "stream",
          "name": "stderr",
          "text": [
            "/usr/local/lib/python3.7/dist-packages/sklearn/utils/deprecation.py:87: FutureWarning: Function get_feature_names is deprecated; get_feature_names is deprecated in 1.0 and will be removed in 1.2. Please use get_feature_names_out instead.\n",
            "  warnings.warn(msg, category=FutureWarning)\n"
          ]
        },
        {
          "output_type": "error",
          "ename": "ValueError",
          "evalue": "ignored",
          "traceback": [
            "\u001b[0;31m---------------------------------------------------------------------------\u001b[0m",
            "\u001b[0;31mValueError\u001b[0m                                Traceback (most recent call last)",
            "\u001b[0;32m<ipython-input-10-4890110e3e41>\u001b[0m in \u001b[0;36m<module>\u001b[0;34m\u001b[0m\n\u001b[1;32m      6\u001b[0m \u001b[0;34m\u001b[0m\u001b[0m\n\u001b[1;32m      7\u001b[0m \u001b[0;31m# Add the encoded variable names to the dataframe\u001b[0m\u001b[0;34m\u001b[0m\u001b[0;34m\u001b[0m\u001b[0;34m\u001b[0m\u001b[0m\n\u001b[0;32m----> 8\u001b[0;31m \u001b[0mencode_df\u001b[0m\u001b[0;34m.\u001b[0m\u001b[0mcolumns\u001b[0m \u001b[0;34m=\u001b[0m \u001b[0menc\u001b[0m\u001b[0;34m.\u001b[0m\u001b[0mget_feature_names\u001b[0m\u001b[0;34m(\u001b[0m\u001b[0mmastery_df\u001b[0m\u001b[0;34m)\u001b[0m\u001b[0;34m\u001b[0m\u001b[0;34m\u001b[0m\u001b[0m\n\u001b[0m\u001b[1;32m      9\u001b[0m \u001b[0mencode_df\u001b[0m\u001b[0;34m.\u001b[0m\u001b[0mhead\u001b[0m\u001b[0;34m(\u001b[0m\u001b[0;34m)\u001b[0m\u001b[0;34m\u001b[0m\u001b[0;34m\u001b[0m\u001b[0m\n",
            "\u001b[0;32m/usr/local/lib/python3.7/dist-packages/sklearn/utils/deprecation.py\u001b[0m in \u001b[0;36mwrapped\u001b[0;34m(*args, **kwargs)\u001b[0m\n\u001b[1;32m     86\u001b[0m         \u001b[0;32mdef\u001b[0m \u001b[0mwrapped\u001b[0m\u001b[0;34m(\u001b[0m\u001b[0;34m*\u001b[0m\u001b[0margs\u001b[0m\u001b[0;34m,\u001b[0m \u001b[0;34m**\u001b[0m\u001b[0mkwargs\u001b[0m\u001b[0;34m)\u001b[0m\u001b[0;34m:\u001b[0m\u001b[0;34m\u001b[0m\u001b[0;34m\u001b[0m\u001b[0m\n\u001b[1;32m     87\u001b[0m             \u001b[0mwarnings\u001b[0m\u001b[0;34m.\u001b[0m\u001b[0mwarn\u001b[0m\u001b[0;34m(\u001b[0m\u001b[0mmsg\u001b[0m\u001b[0;34m,\u001b[0m \u001b[0mcategory\u001b[0m\u001b[0;34m=\u001b[0m\u001b[0mFutureWarning\u001b[0m\u001b[0;34m)\u001b[0m\u001b[0;34m\u001b[0m\u001b[0;34m\u001b[0m\u001b[0m\n\u001b[0;32m---> 88\u001b[0;31m             \u001b[0;32mreturn\u001b[0m \u001b[0mfun\u001b[0m\u001b[0;34m(\u001b[0m\u001b[0;34m*\u001b[0m\u001b[0margs\u001b[0m\u001b[0;34m,\u001b[0m \u001b[0;34m**\u001b[0m\u001b[0mkwargs\u001b[0m\u001b[0;34m)\u001b[0m\u001b[0;34m\u001b[0m\u001b[0;34m\u001b[0m\u001b[0m\n\u001b[0m\u001b[1;32m     89\u001b[0m \u001b[0;34m\u001b[0m\u001b[0m\n\u001b[1;32m     90\u001b[0m         \u001b[0mwrapped\u001b[0m\u001b[0;34m.\u001b[0m\u001b[0m__doc__\u001b[0m \u001b[0;34m=\u001b[0m \u001b[0mself\u001b[0m\u001b[0;34m.\u001b[0m\u001b[0m_update_doc\u001b[0m\u001b[0;34m(\u001b[0m\u001b[0mwrapped\u001b[0m\u001b[0;34m.\u001b[0m\u001b[0m__doc__\u001b[0m\u001b[0;34m)\u001b[0m\u001b[0;34m\u001b[0m\u001b[0;34m\u001b[0m\u001b[0m\n",
            "\u001b[0;32m/usr/local/lib/python3.7/dist-packages/sklearn/preprocessing/_encoders.py\u001b[0m in \u001b[0;36mget_feature_names\u001b[0;34m(self, input_features)\u001b[0m\n\u001b[1;32m    687\u001b[0m                 \u001b[0;34m\"input_features should have length equal to number of \"\u001b[0m\u001b[0;34m\u001b[0m\u001b[0;34m\u001b[0m\u001b[0m\n\u001b[1;32m    688\u001b[0m                 \"features ({}), got {}\".format(\n\u001b[0;32m--> 689\u001b[0;31m                     \u001b[0mlen\u001b[0m\u001b[0;34m(\u001b[0m\u001b[0mself\u001b[0m\u001b[0;34m.\u001b[0m\u001b[0mcategories_\u001b[0m\u001b[0;34m)\u001b[0m\u001b[0;34m,\u001b[0m \u001b[0mlen\u001b[0m\u001b[0;34m(\u001b[0m\u001b[0minput_features\u001b[0m\u001b[0;34m)\u001b[0m\u001b[0;34m\u001b[0m\u001b[0;34m\u001b[0m\u001b[0m\n\u001b[0m\u001b[1;32m    690\u001b[0m                 )\n\u001b[1;32m    691\u001b[0m             )\n",
            "\u001b[0;31mValueError\u001b[0m: input_features should have length equal to number of features (10), got 8797"
          ]
        }
      ],
      "source": [
        "# Create a OneHotEncoder instance\n",
        "enc = OneHotEncoder(sparse=False)\n",
        "\n",
        "# Fit and transform the OneHotEncoder \n",
        "encode_df = pd.DataFrame(enc.fit_transform(mastery_df))\n",
        "\n",
        "# Add the encoded variable names to the dataframe\n",
        "encode_df.columns = enc.get_feature_names(mastery_df)\n",
        "encode_df.head()"
      ]
    },
    {
      "cell_type": "code",
      "execution_count": null,
      "id": "d9be411c",
      "metadata": {
        "id": "d9be411c"
      },
      "outputs": [],
      "source": [
        "#merge the new encode_df with the diamondPlayerIDs dataset?"
      ]
    },
    {
      "cell_type": "code",
      "execution_count": null,
      "id": "690dc085",
      "metadata": {
        "id": "690dc085"
      },
      "outputs": [],
      "source": [
        "# define x and y\n",
        "y = \n",
        "X = \n",
        "\n",
        "# Split training/test datasets\n",
        "X_train, X_test, y_train, y_test = train_test_split(X, y, random_state=1, stratify=y)\n",
        "\n",
        "# Create a StandardScaler instance\n",
        "scaler = StandardScaler()\n",
        "\n",
        "# Fit the StandardScaler\n",
        "X_scaler = scaler.fit(X_train)\n",
        "\n",
        "# Scale the data\n",
        "X_train_scaled = X_scaler.transform(X_train)\n",
        "X_test_scaled = X_scaler.transform(X_test)"
      ]
    },
    {
      "cell_type": "code",
      "execution_count": null,
      "id": "81f715f9",
      "metadata": {
        "id": "81f715f9"
      },
      "outputs": [],
      "source": [
        "# Create the SVM model\n",
        "svm = SVC(kernel='linear')"
      ]
    },
    {
      "cell_type": "code",
      "execution_count": null,
      "id": "51894131",
      "metadata": {
        "id": "51894131"
      },
      "outputs": [],
      "source": [
        "# Train the model\n",
        "svm.fit(X_train, y_train)"
      ]
    },
    {
      "cell_type": "code",
      "execution_count": null,
      "id": "0826723a",
      "metadata": {
        "id": "0826723a"
      },
      "outputs": [],
      "source": [
        "# Evaluate the model\n",
        "y_pred = svm.predict(X_test_scaled)\n",
        "print(f\" SVM model accuracy: {accuracy_score(y_test,y_pred):.3f}\")"
      ]
    },
    {
      "cell_type": "markdown",
      "id": "49b2d5d3",
      "metadata": {
        "id": "49b2d5d3"
      },
      "source": [
        "# vs Deep Learning Model"
      ]
    },
    {
      "cell_type": "code",
      "execution_count": null,
      "id": "6778fb32",
      "metadata": {
        "id": "6778fb32"
      },
      "outputs": [],
      "source": [
        "# Define the model - deep neural net\n",
        "number_input_features = len(X_train_scaled[0])\n",
        "hidden_nodes_layer1 = 10\n",
        "hidden_nodes_layer2 = 5\n",
        "\n",
        "nn = tf.keras.models.Sequential()\n",
        "\n",
        "# First hidden layer\n",
        "nn.add(\n",
        "    tf.keras.layers.Dense(units=hidden_nodes_layer1, input_dim=number_input_features, activation=\"relu\")\n",
        ")\n",
        "\n",
        "# Second hidden layer\n",
        "nn.add(tf.keras.layers.Dense(units=hidden_nodes_layer2, activation=\"relu\"))\n",
        "\n",
        "\n",
        "# Output layer\n",
        "nn.add(tf.keras.layers.Dense(units=1, activation=\"sigmoid\"))\n",
        "\n",
        "# Compile the Sequential model together and customize metrics\n",
        "nn.compile(loss=\"binary_crossentropy\", optimizer=\"adam\", metrics=[\"accuracy\"])"
      ]
    },
    {
      "cell_type": "code",
      "execution_count": null,
      "id": "8f275290",
      "metadata": {
        "id": "8f275290"
      },
      "outputs": [],
      "source": [
        "# Train the model \n",
        "fit_model = nn.fit(X_train_scaled, y_train, epochs=50) \n",
        "# Evaluate the model using the test data \n",
        "model_loss, model_accuracy = nn.evaluate(X_test_scaled,y_test,verbose=2)\n",
        "print(f\"Loss: {model_loss}, Accuracy: {model_accuracy}\")"
      ]
    },
    {
      "cell_type": "markdown",
      "id": "1466ce53",
      "metadata": {
        "id": "1466ce53"
      },
      "source": [
        "# Random Forest"
      ]
    },
    {
      "cell_type": "code",
      "execution_count": null,
      "id": "a1dc3c7a",
      "metadata": {
        "id": "a1dc3c7a"
      },
      "outputs": [],
      "source": [
        "#import dataset\n",
        "mastery_df = pd.read_csv('championMasteryBeta.csv')\n",
        "mastery_df.head()\n",
        "\n",
        "#drop the columns we don't need\n",
        "mastery_df = mastery_df.drop(columns='Date')\n",
        "mastery_df = mastery_df.drop(columns='tokensEarned')\n",
        "mastery_df = mastery_df.drop(columns='chestGranted')\n",
        "mastery_df = mastery_df.drop(columns='summonerId') #most likely keep this later on to merge our diamondPlayer dataset with this one \n",
        "mastery_df"
      ]
    },
    {
      "cell_type": "code",
      "execution_count": null,
      "id": "effedb55",
      "metadata": {
        "id": "effedb55"
      },
      "outputs": [],
      "source": [
        "#check the # of unique items in each column\n",
        "mastery_df.nunique()\n",
        "\n",
        "#bucket championLevel\n",
        "\n",
        "#bucket championPoints\n",
        "\n",
        "#bucket lastPlayTime\n",
        "\n",
        "#bucket championPointsSinceLastLevel\n",
        "\n",
        "#bucket championPointsUntilNextLevel"
      ]
    },
    {
      "cell_type": "code",
      "execution_count": null,
      "id": "7c0a2037",
      "metadata": {
        "id": "7c0a2037"
      },
      "outputs": [],
      "source": [
        "# Create a OneHotEncoder instance\n",
        "enc = OneHotEncoder(sparse=False)\n",
        "\n",
        "# Fit and transform the OneHotEncoder \n",
        "encode_df = pd.DataFrame(enc.fit_transform(mastery_df))\n",
        "\n",
        "# Add the encoded variable names to the dataframe\n",
        "encode_df.columns = enc.get_feature_names(mastery_df)\n",
        "encode_df.head()"
      ]
    },
    {
      "cell_type": "code",
      "execution_count": null,
      "id": "b2c59001",
      "metadata": {
        "id": "b2c59001"
      },
      "outputs": [],
      "source": [
        "#merge the new encode_df with the diamondPlayerIDs dataset?"
      ]
    },
    {
      "cell_type": "code",
      "execution_count": null,
      "id": "8967edd5",
      "metadata": {
        "id": "8967edd5"
      },
      "outputs": [],
      "source": [
        "#define x and y\n",
        "y = \n",
        "X = \n",
        "\n",
        "# Split training/test datasets\n",
        "X_train, X_test, y_train, y_test = train_test_split(X, y, random_state=42, stratify=y)\n",
        "\n",
        "# Create a StandardScaler instance\n",
        "scaler = StandardScaler()\n",
        "\n",
        "# Fit the StandardScaler\n",
        "X_scaler = scaler.fit(X_train)\n",
        "\n",
        "# Scale the data\n",
        "X_train_scaled = X_scaler.transform(X_train)\n",
        "X_test_scaled = X_scaler.transform(X_test)"
      ]
    },
    {
      "cell_type": "code",
      "execution_count": null,
      "id": "285d67d5",
      "metadata": {
        "id": "285d67d5"
      },
      "outputs": [],
      "source": [
        "# Create a random forest classifier.\n",
        "rf_model = RandomForestClassifier(n_estimators=128, random_state=78)\n",
        "\n",
        "# Fitting the model\n",
        "rf_model = rf_model.fit(X_train_scaled, y_train)\n",
        "\n",
        "# Evaluate the model\n",
        "y_pred = rf_model.predict(X_test_scaled)\n",
        "print(f\" Random forest predictive accuracy: {accuracy_score(y_test,y_pred):.3f}\")"
      ]
    },
    {
      "cell_type": "markdown",
      "id": "ae9be422",
      "metadata": {
        "id": "ae9be422"
      },
      "source": [
        "# vs Deep Learning"
      ]
    },
    {
      "cell_type": "code",
      "execution_count": null,
      "id": "bf83f4b8",
      "metadata": {
        "id": "bf83f4b8"
      },
      "outputs": [],
      "source": [
        "# Define the model - deep neural net\n",
        "number_input_features = len(X_train_scaled[0])\n",
        "hidden_nodes_layer1 = 24\n",
        "hidden_nodes_layer2 = 12\n",
        "\n",
        "nn = tf.keras.models.Sequential()\n",
        "\n",
        "# First hidden layer\n",
        "nn.add(\n",
        "    tf.keras.layers.Dense(units=hidden_nodes_layer1, input_dim=number_input_features, activation=\"relu\")\n",
        ")\n",
        "\n",
        "# Second hidden layer\n",
        "nn.add(tf.keras.layers.Dense(units=hidden_nodes_layer2, activation=\"relu\"))\n",
        "\n",
        "\n",
        "# Output layer\n",
        "nn.add(tf.keras.layers.Dense(units=1, activation=\"sigmoid\"))\n",
        "\n",
        "# Compile the Sequential model together and customize metrics\n",
        "nn.compile(loss=\"binary_crossentropy\", optimizer=\"adam\", metrics=[\"accuracy\"])\n",
        "\n",
        "# Train the model\n",
        "fit_model = nn.fit(X_train_scaled, y_train, epochs=50)\n",
        "\n",
        "# Evaluate the model using the test data\n",
        "model_loss, model_accuracy = nn.evaluate(X_test_scaled,y_test,verbose=2)\n",
        "print(f\"Loss: {model_loss}, Accuracy: {model_accuracy}\")"
      ]
    }
  ],
  "metadata": {
    "kernelspec": {
      "display_name": "mlenv",
      "language": "python",
      "name": "mlenv"
    },
    "language_info": {
      "codemirror_mode": {
        "name": "ipython",
        "version": 3
      },
      "file_extension": ".py",
      "mimetype": "text/x-python",
      "name": "python",
      "nbconvert_exporter": "python",
      "pygments_lexer": "ipython3",
      "version": "3.9.7"
    },
    "colab": {
      "name": "ChampionMasteryMachineLearning.ipynb",
      "provenance": [],
      "collapsed_sections": []
    }
  },
  "nbformat": 4,
  "nbformat_minor": 5
}