{
 "cells": [
  {
   "cell_type": "code",
   "execution_count": null,
   "id": "ab469fcf",
   "metadata": {},
   "outputs": [],
   "source": [
    "# Import Dependencies\n",
    "import json\n",
    "import pandas as pd\n",
    "import numpy as np"
   ]
  },
  {
   "cell_type": "code",
   "execution_count": 4,
   "id": "037b29ec",
   "metadata": {},
   "outputs": [],
   "source": [
    "# Load in data"
   ]
  },
  {
   "cell_type": "code",
   "execution_count": 5,
   "id": "02b481e7",
   "metadata": {},
   "outputs": [],
   "source": [
    "# print data labels"
   ]
  },
  {
   "cell_type": "code",
   "execution_count": 2,
   "id": "9026a2bf",
   "metadata": {},
   "outputs": [],
   "source": [
    "### Sort data by 4 different categories:\n",
    "# champion release date\n",
    "# champion mastery points\n",
    "# role/lane"
   ]
  },
  {
   "cell_type": "code",
   "execution_count": 3,
   "id": "a1836320",
   "metadata": {},
   "outputs": [],
   "source": [
    "# Use machine learning model to model and answer questions"
   ]
  }
 ],
 "metadata": {
  "kernelspec": {
   "display_name": "Python 3 (ipykernel)",
   "language": "python",
   "name": "python3"
  },
  "language_info": {
   "codemirror_mode": {
    "name": "ipython",
    "version": 3
   },
   "file_extension": ".py",
   "mimetype": "text/x-python",
   "name": "python",
   "nbconvert_exporter": "python",
   "pygments_lexer": "ipython3",
   "version": "3.7.6"
  },
  "vscode": {
   "interpreter": {
    "hash": "0c85470935ee815cd2d63343c594945427bc7a34ff712e4263e055a0e25f9230"
   }
  }
 },
 "nbformat": 4,
 "nbformat_minor": 5
}
