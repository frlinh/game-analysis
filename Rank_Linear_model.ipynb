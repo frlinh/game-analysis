{
 "cells": [
  {
   "cell_type": "code",
   "execution_count": 34,
   "id": "6d0afab6",
   "metadata": {},
   "outputs": [],
   "source": [
    "# Import dependencies\n",
    "import pandas as pd\n",
    "from pathlib import Path\n",
    "import matplotlib.pyplot as plt\n",
    "from sklearn.linear_model import LinearRegression"
   ]
  },
  {
   "cell_type": "code",
   "execution_count": 35,
   "id": "3c88981b",
   "metadata": {
    "scrolled": true
   },
   "outputs": [
    {
     "data": {
      "text/html": [
       "<div>\n",
       "<style scoped>\n",
       "    .dataframe tbody tr th:only-of-type {\n",
       "        vertical-align: middle;\n",
       "    }\n",
       "\n",
       "    .dataframe tbody tr th {\n",
       "        vertical-align: top;\n",
       "    }\n",
       "\n",
       "    .dataframe thead th {\n",
       "        text-align: right;\n",
       "    }\n",
       "</style>\n",
       "<table border=\"1\" class=\"dataframe\">\n",
       "  <thead>\n",
       "    <tr style=\"text-align: right;\">\n",
       "      <th></th>\n",
       "      <th>Date</th>\n",
       "      <th>leagueId</th>\n",
       "      <th>queueType</th>\n",
       "      <th>tier</th>\n",
       "      <th>rank</th>\n",
       "      <th>summonerId</th>\n",
       "      <th>summonerName</th>\n",
       "      <th>leaguePoints</th>\n",
       "      <th>wins</th>\n",
       "      <th>losses</th>\n",
       "      <th>veteran</th>\n",
       "      <th>inactive</th>\n",
       "      <th>freshBlood</th>\n",
       "      <th>Unnamed: 13</th>\n",
       "      <th>Unnamed: 14</th>\n",
       "      <th>Unnamed: 15</th>\n",
       "      <th>Unnamed: 16</th>\n",
       "      <th>hotStreak</th>\n",
       "    </tr>\n",
       "  </thead>\n",
       "  <tbody>\n",
       "    <tr>\n",
       "      <th>0</th>\n",
       "      <td>8/22/2022</td>\n",
       "      <td>9a70a108-f809-45fb-9d80-1aa20100bbc8</td>\n",
       "      <td>RANKED_SOLO_5x5</td>\n",
       "      <td>DIAMOND</td>\n",
       "      <td>IV</td>\n",
       "      <td>kFWOpLcoDh0Wgqp1Cn_2fjBaWpCSkQycPffBN43--e7B1aQb</td>\n",
       "      <td>ˇ kiss ˇ</td>\n",
       "      <td>72</td>\n",
       "      <td>83</td>\n",
       "      <td>56</td>\n",
       "      <td>False</td>\n",
       "      <td>False</td>\n",
       "      <td>False</td>\n",
       "      <td>NaN</td>\n",
       "      <td>NaN</td>\n",
       "      <td>NaN</td>\n",
       "      <td>NaN</td>\n",
       "      <td>FALSE</td>\n",
       "    </tr>\n",
       "    <tr>\n",
       "      <th>1</th>\n",
       "      <td>8/22/2022</td>\n",
       "      <td>b4df15de-f0a7-4815-9d67-639581901281</td>\n",
       "      <td>RANKED_SOLO_5x5</td>\n",
       "      <td>DIAMOND</td>\n",
       "      <td>IV</td>\n",
       "      <td>DHAkvCTJcyHAuJYxpdyEOR2nUSl6IllUjdYY0CknYgKCvlKb</td>\n",
       "      <td>Terikuruzu</td>\n",
       "      <td>52</td>\n",
       "      <td>55</td>\n",
       "      <td>62</td>\n",
       "      <td>False</td>\n",
       "      <td>False</td>\n",
       "      <td>False</td>\n",
       "      <td>NaN</td>\n",
       "      <td>NaN</td>\n",
       "      <td>NaN</td>\n",
       "      <td>NaN</td>\n",
       "      <td>FALSE</td>\n",
       "    </tr>\n",
       "    <tr>\n",
       "      <th>2</th>\n",
       "      <td>8/22/2022</td>\n",
       "      <td>2ff31712-faf0-4c74-a7f8-025bc4106bcc</td>\n",
       "      <td>RANKED_SOLO_5x5</td>\n",
       "      <td>DIAMOND</td>\n",
       "      <td>IV</td>\n",
       "      <td>5ZQp2rKYI8U8l0kMKf03X3CLNLcTTrul4uTCPA30T5qsiivY</td>\n",
       "      <td>KurumaEbii</td>\n",
       "      <td>46</td>\n",
       "      <td>192</td>\n",
       "      <td>195</td>\n",
       "      <td>False</td>\n",
       "      <td>False</td>\n",
       "      <td>False</td>\n",
       "      <td>NaN</td>\n",
       "      <td>NaN</td>\n",
       "      <td>NaN</td>\n",
       "      <td>NaN</td>\n",
       "      <td>FALSE</td>\n",
       "    </tr>\n",
       "    <tr>\n",
       "      <th>3</th>\n",
       "      <td>8/22/2022</td>\n",
       "      <td>c7d12b58-17e5-4b6f-9eef-efd890281757</td>\n",
       "      <td>RANKED_SOLO_5x5</td>\n",
       "      <td>DIAMOND</td>\n",
       "      <td>IV</td>\n",
       "      <td>SJwLp5ZzFbdE9Qk-JTnA7M7XJkYC2vwBAdZVGnr1CTUOzkQD</td>\n",
       "      <td>swimmy1318</td>\n",
       "      <td>0</td>\n",
       "      <td>360</td>\n",
       "      <td>356</td>\n",
       "      <td>False</td>\n",
       "      <td>False</td>\n",
       "      <td>False</td>\n",
       "      <td>NaN</td>\n",
       "      <td>NaN</td>\n",
       "      <td>NaN</td>\n",
       "      <td>NaN</td>\n",
       "      <td>FALSE</td>\n",
       "    </tr>\n",
       "    <tr>\n",
       "      <th>4</th>\n",
       "      <td>8/22/2022</td>\n",
       "      <td>6d31cd2e-5092-4374-9e27-1015b22368dc</td>\n",
       "      <td>RANKED_SOLO_5x5</td>\n",
       "      <td>DIAMOND</td>\n",
       "      <td>IV</td>\n",
       "      <td>COsscwJOMu4KJ9w5X7ubFTEkTx2CoEcLX1-iWp1nmISs8OYi</td>\n",
       "      <td>vilest</td>\n",
       "      <td>1</td>\n",
       "      <td>82</td>\n",
       "      <td>74</td>\n",
       "      <td>False</td>\n",
       "      <td>False</td>\n",
       "      <td>True</td>\n",
       "      <td>NaN</td>\n",
       "      <td>NaN</td>\n",
       "      <td>NaN</td>\n",
       "      <td>NaN</td>\n",
       "      <td>FALSE</td>\n",
       "    </tr>\n",
       "    <tr>\n",
       "      <th>...</th>\n",
       "      <td>...</td>\n",
       "      <td>...</td>\n",
       "      <td>...</td>\n",
       "      <td>...</td>\n",
       "      <td>...</td>\n",
       "      <td>...</td>\n",
       "      <td>...</td>\n",
       "      <td>...</td>\n",
       "      <td>...</td>\n",
       "      <td>...</td>\n",
       "      <td>...</td>\n",
       "      <td>...</td>\n",
       "      <td>...</td>\n",
       "      <td>...</td>\n",
       "      <td>...</td>\n",
       "      <td>...</td>\n",
       "      <td>...</td>\n",
       "      <td>...</td>\n",
       "    </tr>\n",
       "    <tr>\n",
       "      <th>815</th>\n",
       "      <td>8/22/2022</td>\n",
       "      <td>c8cb93c7-49af-4678-be54-996ec909d658</td>\n",
       "      <td>RANKED_SOLO_5x5</td>\n",
       "      <td>DIAMOND</td>\n",
       "      <td>I</td>\n",
       "      <td>qYUkbrsXmsjEHNRlMEzu55iM21LP7y17lpGfR5Kw9IQQQEPV</td>\n",
       "      <td>Melvox</td>\n",
       "      <td>14</td>\n",
       "      <td>28</td>\n",
       "      <td>15</td>\n",
       "      <td>False</td>\n",
       "      <td>False</td>\n",
       "      <td>False</td>\n",
       "      <td>False</td>\n",
       "      <td>NaN</td>\n",
       "      <td>NaN</td>\n",
       "      <td>NaN</td>\n",
       "      <td>NaN</td>\n",
       "    </tr>\n",
       "    <tr>\n",
       "      <th>816</th>\n",
       "      <td>8/22/2022</td>\n",
       "      <td>9a0d09dc-cdfa-4088-832a-c248e288d1ac</td>\n",
       "      <td>RANKED_SOLO_5x5</td>\n",
       "      <td>DIAMOND</td>\n",
       "      <td>I</td>\n",
       "      <td>YOnkR3EhJgI4Ts97_-S3AsJNSLk9837aLNk8pg12OgsyZJqC</td>\n",
       "      <td>supsupsupspsp</td>\n",
       "      <td>37</td>\n",
       "      <td>69</td>\n",
       "      <td>70</td>\n",
       "      <td>False</td>\n",
       "      <td>False</td>\n",
       "      <td>False</td>\n",
       "      <td>True</td>\n",
       "      <td>NaN</td>\n",
       "      <td>NaN</td>\n",
       "      <td>NaN</td>\n",
       "      <td>NaN</td>\n",
       "    </tr>\n",
       "    <tr>\n",
       "      <th>817</th>\n",
       "      <td>8/22/2022</td>\n",
       "      <td>195fea64-4a81-4293-ae8b-28b059e4bea1</td>\n",
       "      <td>RANKED_SOLO_5x5</td>\n",
       "      <td>DIAMOND</td>\n",
       "      <td>I</td>\n",
       "      <td>vk05Nta6ZUulnZqnqK7FOXa4M9LOILSYzGDtBhG7ojg2BeWt</td>\n",
       "      <td>Kan Po</td>\n",
       "      <td>0</td>\n",
       "      <td>363</td>\n",
       "      <td>346</td>\n",
       "      <td>False</td>\n",
       "      <td>False</td>\n",
       "      <td>False</td>\n",
       "      <td>False</td>\n",
       "      <td>NaN</td>\n",
       "      <td>NaN</td>\n",
       "      <td>NaN</td>\n",
       "      <td>NaN</td>\n",
       "    </tr>\n",
       "    <tr>\n",
       "      <th>818</th>\n",
       "      <td>8/22/2022</td>\n",
       "      <td>2d30df88-94f5-44e1-b793-52a2a58618dd</td>\n",
       "      <td>RANKED_SOLO_5x5</td>\n",
       "      <td>DIAMOND</td>\n",
       "      <td>I</td>\n",
       "      <td>jdYJupfrnS5f7TQZjHBGkAP0u3HrptxdqiHOM2Rqegv2bDJi</td>\n",
       "      <td>Tallest mountain</td>\n",
       "      <td>37</td>\n",
       "      <td>366</td>\n",
       "      <td>349</td>\n",
       "      <td>False</td>\n",
       "      <td>False</td>\n",
       "      <td>False</td>\n",
       "      <td>False</td>\n",
       "      <td>NaN</td>\n",
       "      <td>NaN</td>\n",
       "      <td>NaN</td>\n",
       "      <td>NaN</td>\n",
       "    </tr>\n",
       "    <tr>\n",
       "      <th>819</th>\n",
       "      <td>8/22/2022</td>\n",
       "      <td>fd2b2fb9-3b2b-4b42-93ad-4640d7a62f6f</td>\n",
       "      <td>RANKED_SOLO_5x5</td>\n",
       "      <td>DIAMOND</td>\n",
       "      <td>I</td>\n",
       "      <td>pa426gV1ahOYZGlNBSZkgS_2IpTAX0iVtROEjME7dKmg5OZk</td>\n",
       "      <td>Antara</td>\n",
       "      <td>63</td>\n",
       "      <td>61</td>\n",
       "      <td>46</td>\n",
       "      <td>False</td>\n",
       "      <td>False</td>\n",
       "      <td>False</td>\n",
       "      <td>False</td>\n",
       "      <td>NaN</td>\n",
       "      <td>NaN</td>\n",
       "      <td>NaN</td>\n",
       "      <td>NaN</td>\n",
       "    </tr>\n",
       "  </tbody>\n",
       "</table>\n",
       "<p>820 rows × 18 columns</p>\n",
       "</div>"
      ],
      "text/plain": [
       "          Date                              leagueId        queueType  \\\n",
       "0    8/22/2022  9a70a108-f809-45fb-9d80-1aa20100bbc8  RANKED_SOLO_5x5   \n",
       "1    8/22/2022  b4df15de-f0a7-4815-9d67-639581901281  RANKED_SOLO_5x5   \n",
       "2    8/22/2022  2ff31712-faf0-4c74-a7f8-025bc4106bcc  RANKED_SOLO_5x5   \n",
       "3    8/22/2022  c7d12b58-17e5-4b6f-9eef-efd890281757  RANKED_SOLO_5x5   \n",
       "4    8/22/2022  6d31cd2e-5092-4374-9e27-1015b22368dc  RANKED_SOLO_5x5   \n",
       "..         ...                                   ...              ...   \n",
       "815  8/22/2022  c8cb93c7-49af-4678-be54-996ec909d658  RANKED_SOLO_5x5   \n",
       "816  8/22/2022  9a0d09dc-cdfa-4088-832a-c248e288d1ac  RANKED_SOLO_5x5   \n",
       "817  8/22/2022  195fea64-4a81-4293-ae8b-28b059e4bea1  RANKED_SOLO_5x5   \n",
       "818  8/22/2022  2d30df88-94f5-44e1-b793-52a2a58618dd  RANKED_SOLO_5x5   \n",
       "819  8/22/2022  fd2b2fb9-3b2b-4b42-93ad-4640d7a62f6f  RANKED_SOLO_5x5   \n",
       "\n",
       "        tier rank                                        summonerId  \\\n",
       "0    DIAMOND   IV  kFWOpLcoDh0Wgqp1Cn_2fjBaWpCSkQycPffBN43--e7B1aQb   \n",
       "1    DIAMOND   IV  DHAkvCTJcyHAuJYxpdyEOR2nUSl6IllUjdYY0CknYgKCvlKb   \n",
       "2    DIAMOND   IV  5ZQp2rKYI8U8l0kMKf03X3CLNLcTTrul4uTCPA30T5qsiivY   \n",
       "3    DIAMOND   IV  SJwLp5ZzFbdE9Qk-JTnA7M7XJkYC2vwBAdZVGnr1CTUOzkQD   \n",
       "4    DIAMOND   IV  COsscwJOMu4KJ9w5X7ubFTEkTx2CoEcLX1-iWp1nmISs8OYi   \n",
       "..       ...  ...                                               ...   \n",
       "815  DIAMOND    I  qYUkbrsXmsjEHNRlMEzu55iM21LP7y17lpGfR5Kw9IQQQEPV   \n",
       "816  DIAMOND    I  YOnkR3EhJgI4Ts97_-S3AsJNSLk9837aLNk8pg12OgsyZJqC   \n",
       "817  DIAMOND    I  vk05Nta6ZUulnZqnqK7FOXa4M9LOILSYzGDtBhG7ojg2BeWt   \n",
       "818  DIAMOND    I  jdYJupfrnS5f7TQZjHBGkAP0u3HrptxdqiHOM2Rqegv2bDJi   \n",
       "819  DIAMOND    I  pa426gV1ahOYZGlNBSZkgS_2IpTAX0iVtROEjME7dKmg5OZk   \n",
       "\n",
       "         summonerName  leaguePoints  wins  losses  veteran  inactive  \\\n",
       "0            ˇ kiss ˇ            72    83      56    False     False   \n",
       "1          Terikuruzu            52    55      62    False     False   \n",
       "2          KurumaEbii            46   192     195    False     False   \n",
       "3          swimmy1318             0   360     356    False     False   \n",
       "4              vilest             1    82      74    False     False   \n",
       "..                ...           ...   ...     ...      ...       ...   \n",
       "815            Melvox            14    28      15    False     False   \n",
       "816     supsupsupspsp            37    69      70    False     False   \n",
       "817            Kan Po             0   363     346    False     False   \n",
       "818  Tallest mountain            37   366     349    False     False   \n",
       "819            Antara            63    61      46    False     False   \n",
       "\n",
       "     freshBlood Unnamed: 13  Unnamed: 14  Unnamed: 15  Unnamed: 16 hotStreak  \n",
       "0         False         NaN          NaN          NaN          NaN     FALSE  \n",
       "1         False         NaN          NaN          NaN          NaN     FALSE  \n",
       "2         False         NaN          NaN          NaN          NaN     FALSE  \n",
       "3         False         NaN          NaN          NaN          NaN     FALSE  \n",
       "4          True         NaN          NaN          NaN          NaN     FALSE  \n",
       "..          ...         ...          ...          ...          ...       ...  \n",
       "815       False       False          NaN          NaN          NaN       NaN  \n",
       "816       False        True          NaN          NaN          NaN       NaN  \n",
       "817       False       False          NaN          NaN          NaN       NaN  \n",
       "818       False       False          NaN          NaN          NaN       NaN  \n",
       "819       False       False          NaN          NaN          NaN       NaN  \n",
       "\n",
       "[820 rows x 18 columns]"
      ]
     },
     "execution_count": 35,
     "metadata": {},
     "output_type": "execute_result"
    }
   ],
   "source": [
    "# Read csv\n",
    "df=pd.read_csv(\"https://raw.githubusercontent.com/frlinh/game-analysis/main/diamondPlayerIDs.csv\")\n",
    "\n",
    "df"
   ]
  },
  {
   "cell_type": "code",
   "execution_count": 36,
   "id": "3afd8e6f",
   "metadata": {},
   "outputs": [
    {
     "data": {
      "text/plain": [
       "Date             object\n",
       "leagueId         object\n",
       "queueType        object\n",
       "tier             object\n",
       "rank             object\n",
       "summonerId       object\n",
       "summonerName     object\n",
       "leaguePoints      int64\n",
       "wins              int64\n",
       "losses            int64\n",
       "veteran            bool\n",
       "inactive           bool\n",
       "freshBlood         bool\n",
       "Unnamed: 13      object\n",
       "Unnamed: 14     float64\n",
       "Unnamed: 15     float64\n",
       "Unnamed: 16     float64\n",
       "hotStreak        object\n",
       "dtype: object"
      ]
     },
     "execution_count": 36,
     "metadata": {},
     "output_type": "execute_result"
    }
   ],
   "source": [
    "df.dtypes"
   ]
  },
  {
   "cell_type": "code",
   "execution_count": 37,
   "id": "75cce00b",
   "metadata": {},
   "outputs": [],
   "source": [
    "# Dropping strings for modeling\n",
    "df=df.drop([\"Date\",\"leagueId\",\"queueType\",\"tier\",\"summonerId\",\"summonerName\",\"veteran\",\"inactive\",\"freshBlood\",\"Unnamed: 13\",\"hotStreak\"],axis=1)\n",
    "df=df.drop([\"Unnamed: 14\",'Unnamed: 15','Unnamed: 16'],axis=1)"
   ]
  },
  {
   "cell_type": "code",
   "execution_count": 38,
   "id": "9c052169",
   "metadata": {},
   "outputs": [
    {
     "data": {
      "image/png": "[encoded data removed]",
      "text/plain": [
       "<Figure size 432x288 with 1 Axes>"
      ]
     },
     "metadata": {
      "needs_background": "light"
     },
     "output_type": "display_data"
    }
   ],
   "source": [
    "# Plotting wins versus losses\n",
    "plt.scatter(df.wins, df.losses)\n",
    "plt.xlabel('wins')\n",
    "plt.ylabel('losses')\n",
    "plt.show()"
   ]
  },
  {
   "cell_type": "code",
   "execution_count": 39,
   "id": "3994dcda",
   "metadata": {},
   "outputs": [],
   "source": [
    "X = df.wins.values.reshape(-1, 1)"
   ]
  },
  {
   "cell_type": "code",
   "execution_count": 40,
   "id": "397f0b00",
   "metadata": {},
   "outputs": [
    {
     "data": {
      "text/plain": [
       "array([[ 83],\n",
       "       [ 55],\n",
       "       [192],\n",
       "       [360],\n",
       "       [ 82]], dtype=int64)"
      ]
     },
     "execution_count": 40,
     "metadata": {},
     "output_type": "execute_result"
    }
   ],
   "source": [
    "X[:5]"
   ]
  },
  {
   "cell_type": "code",
   "execution_count": 41,
   "id": "6a6f2c21",
   "metadata": {},
   "outputs": [
    {
     "data": {
      "text/plain": [
       "(820, 1)"
      ]
     },
     "execution_count": 41,
     "metadata": {},
     "output_type": "execute_result"
    }
   ],
   "source": [
    "X.shape"
   ]
  },
  {
   "cell_type": "code",
   "execution_count": 42,
   "id": "8b1a54f7",
   "metadata": {},
   "outputs": [],
   "source": [
    "y = df.losses"
   ]
  },
  {
   "cell_type": "code",
   "execution_count": 43,
   "id": "7d8c7ffd",
   "metadata": {},
   "outputs": [],
   "source": [
    "model = LinearRegression()"
   ]
  },
  {
   "cell_type": "code",
   "execution_count": 44,
   "id": "9b5df958",
   "metadata": {},
   "outputs": [
    {
     "data": {
      "text/html": [
       "<style>#sk-container-id-3 {color: black;background-color: white;}#sk-container-id-3 pre{padding: 0;}#sk-container-id-3 div.sk-toggleable {background-color: white;}#sk-container-id-3 label.sk-toggleable__label {cursor: pointer;display: block;width: 100%;margin-bottom: 0;padding: 0.3em;box-sizing: border-box;text-align: center;}#sk-container-id-3 label.sk-toggleable__label-arrow:before {content: \"▸\";float: left;margin-right: 0.25em;color: #696969;}#sk-container-id-3 label.sk-toggleable__label-arrow:hover:before {color: black;}#sk-container-id-3 div.sk-estimator:hover label.sk-toggleable__label-arrow:before {color: black;}#sk-container-id-3 div.sk-toggleable__content {max-height: 0;max-width: 0;overflow: hidden;text-align: left;background-color: #f0f8ff;}#sk-container-id-3 div.sk-toggleable__content pre {margin: 0.2em;color: black;border-radius: 0.25em;background-color: #f0f8ff;}#sk-container-id-3 input.sk-toggleable__control:checked~div.sk-toggleable__content {max-height: 200px;max-width: 100%;overflow: auto;}#sk-container-id-3 input.sk-toggleable__control:checked~label.sk-toggleable__label-arrow:before {content: \"▾\";}#sk-container-id-3 div.sk-estimator input.sk-toggleable__control:checked~label.sk-toggleable__label {background-color: #d4ebff;}#sk-container-id-3 div.sk-label input.sk-toggleable__control:checked~label.sk-toggleable__label {background-color: #d4ebff;}#sk-container-id-3 input.sk-hidden--visually {border: 0;clip: rect(1px 1px 1px 1px);clip: rect(1px, 1px, 1px, 1px);height: 1px;margin: -1px;overflow: hidden;padding: 0;position: absolute;width: 1px;}#sk-container-id-3 div.sk-estimator {font-family: monospace;background-color: #f0f8ff;border: 1px dotted black;border-radius: 0.25em;box-sizing: border-box;margin-bottom: 0.5em;}#sk-container-id-3 div.sk-estimator:hover {background-color: #d4ebff;}#sk-container-id-3 div.sk-parallel-item::after {content: \"\";width: 100%;border-bottom: 1px solid gray;flex-grow: 1;}#sk-container-id-3 div.sk-label:hover label.sk-toggleable__label {background-color: #d4ebff;}#sk-container-id-3 div.sk-serial::before {content: \"\";position: absolute;border-left: 1px solid gray;box-sizing: border-box;top: 0;bottom: 0;left: 50%;z-index: 0;}#sk-container-id-3 div.sk-serial {display: flex;flex-direction: column;align-items: center;background-color: white;padding-right: 0.2em;padding-left: 0.2em;position: relative;}#sk-container-id-3 div.sk-item {position: relative;z-index: 1;}#sk-container-id-3 div.sk-parallel {display: flex;align-items: stretch;justify-content: center;background-color: white;position: relative;}#sk-container-id-3 div.sk-item::before, #sk-container-id-3 div.sk-parallel-item::before {content: \"\";position: absolute;border-left: 1px solid gray;box-sizing: border-box;top: 0;bottom: 0;left: 50%;z-index: -1;}#sk-container-id-3 div.sk-parallel-item {display: flex;flex-direction: column;z-index: 1;position: relative;background-color: white;}#sk-container-id-3 div.sk-parallel-item:first-child::after {align-self: flex-end;width: 50%;}#sk-container-id-3 div.sk-parallel-item:last-child::after {align-self: flex-start;width: 50%;}#sk-container-id-3 div.sk-parallel-item:only-child::after {width: 0;}#sk-container-id-3 div.sk-dashed-wrapped {border: 1px dashed gray;margin: 0 0.4em 0.5em 0.4em;box-sizing: border-box;padding-bottom: 0.4em;background-color: white;}#sk-container-id-3 div.sk-label label {font-family: monospace;font-weight: bold;display: inline-block;line-height: 1.2em;}#sk-container-id-3 div.sk-label-container {text-align: center;}#sk-container-id-3 div.sk-container {/* jupyter's `normalize.less` sets `[hidden] { display: none; }` but bootstrap.min.css set `[hidden] { display: none !important; }` so we also need the `!important` here to be able to override the default hidden behavior on the sphinx rendered scikit-learn.org. See: https://github.com/scikit-learn/scikit-learn/issues/21755 */display: inline-block !important;position: relative;}#sk-container-id-3 div.sk-text-repr-fallback {display: none;}</style><div id=\"sk-container-id-3\" class=\"sk-top-container\"><div class=\"sk-text-repr-fallback\"><pre>LinearRegression()</pre><b>In a Jupyter environment, please rerun this cell to show the HTML representation or trust the notebook. <br />On GitHub, the HTML representation is unable to render, please try loading this page with nbviewer.org.</b></div><div class=\"sk-container\" hidden><div class=\"sk-item\"><div class=\"sk-estimator sk-toggleable\"><input class=\"sk-toggleable__control sk-hidden--visually\" id=\"sk-estimator-id-3\" type=\"checkbox\" checked><label for=\"sk-estimator-id-3\" class=\"sk-toggleable__label sk-toggleable__label-arrow\">LinearRegression</label><div class=\"sk-toggleable__content\"><pre>LinearRegression()</pre></div></div></div></div></div>"
      ],
      "text/plain": [
       "LinearRegression()"
      ]
     },
     "execution_count": 44,
     "metadata": {},
     "output_type": "execute_result"
    }
   ],
   "source": [
    "model.fit(X, y)"
   ]
  },
  {
   "cell_type": "code",
   "execution_count": 45,
   "id": "176e3095",
   "metadata": {},
   "outputs": [
    {
     "name": "stdout",
     "output_type": "stream",
     "text": [
      "(820,)\n"
     ]
    }
   ],
   "source": [
    "y_pred = model.predict(X)\n",
    "print(y_pred.shape)"
   ]
  },
  {
   "cell_type": "code",
   "execution_count": 46,
   "id": "71f531c5",
   "metadata": {},
   "outputs": [
    {
     "data": {
      "image/png": "[encoded data removed]",
      "text/plain": [
       "<Figure size 432x288 with 1 Axes>"
      ]
     },
     "metadata": {
      "needs_background": "light"
     },
     "output_type": "display_data"
    }
   ],
   "source": [
    "# Adding linear regression line to plot\n",
    "plt.scatter(X, y)\n",
    "plt.plot(X, y_pred, color='purple')\n",
    "plt.show()"
   ]
  },
  {
   "cell_type": "code",
   "execution_count": 47,
   "id": "43715acb",
   "metadata": {},
   "outputs": [
    {
     "name": "stdout",
     "output_type": "stream",
     "text": [
      "[0.96952644]\n",
      "-8.99919176775333\n"
     ]
    }
   ],
   "source": [
    "print(model.coef_)\n",
    "print(model.intercept_)"
   ]
  },
  {
   "cell_type": "code",
   "execution_count": 48,
   "id": "2628f981",
   "metadata": {},
   "outputs": [
    {
     "data": {
      "text/html": [
       "<div>\n",
       "<style scoped>\n",
       "    .dataframe tbody tr th:only-of-type {\n",
       "        vertical-align: middle;\n",
       "    }\n",
       "\n",
       "    .dataframe tbody tr th {\n",
       "        vertical-align: top;\n",
       "    }\n",
       "\n",
       "    .dataframe thead th {\n",
       "        text-align: right;\n",
       "    }\n",
       "</style>\n",
       "<table border=\"1\" class=\"dataframe\">\n",
       "  <thead>\n",
       "    <tr style=\"text-align: right;\">\n",
       "      <th></th>\n",
       "      <th>rank</th>\n",
       "      <th>leaguePoints</th>\n",
       "      <th>wins</th>\n",
       "      <th>losses</th>\n",
       "    </tr>\n",
       "  </thead>\n",
       "  <tbody>\n",
       "    <tr>\n",
       "      <th>0</th>\n",
       "      <td>IV</td>\n",
       "      <td>72</td>\n",
       "      <td>83</td>\n",
       "      <td>56</td>\n",
       "    </tr>\n",
       "    <tr>\n",
       "      <th>1</th>\n",
       "      <td>IV</td>\n",
       "      <td>52</td>\n",
       "      <td>55</td>\n",
       "      <td>62</td>\n",
       "    </tr>\n",
       "    <tr>\n",
       "      <th>2</th>\n",
       "      <td>IV</td>\n",
       "      <td>46</td>\n",
       "      <td>192</td>\n",
       "      <td>195</td>\n",
       "    </tr>\n",
       "    <tr>\n",
       "      <th>3</th>\n",
       "      <td>IV</td>\n",
       "      <td>0</td>\n",
       "      <td>360</td>\n",
       "      <td>356</td>\n",
       "    </tr>\n",
       "    <tr>\n",
       "      <th>4</th>\n",
       "      <td>IV</td>\n",
       "      <td>1</td>\n",
       "      <td>82</td>\n",
       "      <td>74</td>\n",
       "    </tr>\n",
       "    <tr>\n",
       "      <th>...</th>\n",
       "      <td>...</td>\n",
       "      <td>...</td>\n",
       "      <td>...</td>\n",
       "      <td>...</td>\n",
       "    </tr>\n",
       "    <tr>\n",
       "      <th>815</th>\n",
       "      <td>I</td>\n",
       "      <td>14</td>\n",
       "      <td>28</td>\n",
       "      <td>15</td>\n",
       "    </tr>\n",
       "    <tr>\n",
       "      <th>816</th>\n",
       "      <td>I</td>\n",
       "      <td>37</td>\n",
       "      <td>69</td>\n",
       "      <td>70</td>\n",
       "    </tr>\n",
       "    <tr>\n",
       "      <th>817</th>\n",
       "      <td>I</td>\n",
       "      <td>0</td>\n",
       "      <td>363</td>\n",
       "      <td>346</td>\n",
       "    </tr>\n",
       "    <tr>\n",
       "      <th>818</th>\n",
       "      <td>I</td>\n",
       "      <td>37</td>\n",
       "      <td>366</td>\n",
       "      <td>349</td>\n",
       "    </tr>\n",
       "    <tr>\n",
       "      <th>819</th>\n",
       "      <td>I</td>\n",
       "      <td>63</td>\n",
       "      <td>61</td>\n",
       "      <td>46</td>\n",
       "    </tr>\n",
       "  </tbody>\n",
       "</table>\n",
       "<p>820 rows × 4 columns</p>\n",
       "</div>"
      ],
      "text/plain": [
       "    rank  leaguePoints  wins  losses\n",
       "0     IV            72    83      56\n",
       "1     IV            52    55      62\n",
       "2     IV            46   192     195\n",
       "3     IV             0   360     356\n",
       "4     IV             1    82      74\n",
       "..   ...           ...   ...     ...\n",
       "815    I            14    28      15\n",
       "816    I            37    69      70\n",
       "817    I             0   363     346\n",
       "818    I            37   366     349\n",
       "819    I            63    61      46\n",
       "\n",
       "[820 rows x 4 columns]"
      ]
     },
     "execution_count": 48,
     "metadata": {},
     "output_type": "execute_result"
    }
   ],
   "source": [
    "# Print dataframe and sort by rank\n",
    "df"
   ]
  },
  {
   "cell_type": "code",
   "execution_count": 49,
   "id": "179cf8da",
   "metadata": {},
   "outputs": [],
   "source": [
    "# Dropping rank to predict\n",
    "y=df[\"rank\"]\n",
    "X=df.drop(columns=\"rank\")"
   ]
  },
  {
   "cell_type": "code",
   "execution_count": 50,
   "id": "e311ebd5",
   "metadata": {},
   "outputs": [
    {
     "data": {
      "text/plain": [
       "(615, 3)"
      ]
     },
     "execution_count": 50,
     "metadata": {},
     "output_type": "execute_result"
    }
   ],
   "source": [
    "from sklearn.model_selection import train_test_split\n",
    "\n",
    "X_train, X_test, y_train, y_test = train_test_split(X,\n",
    "                                                    y,\n",
    "                                                    random_state=1,\n",
    "                                                    stratify=y)\n",
    "X_train.shape"
   ]
  },
  {
   "cell_type": "code",
   "execution_count": 51,
   "id": "e924aed7",
   "metadata": {},
   "outputs": [],
   "source": [
    "from sklearn.linear_model import LogisticRegression\n",
    "classifier= LogisticRegression(solver='lbfgs',\n",
    "                              max_iter=200,\n",
    "                              random_state=1)"
   ]
  },
  {
   "cell_type": "code",
   "execution_count": 54,
   "id": "11e04f64",
   "metadata": {},
   "outputs": [
    {
     "data": {
      "text/html": [
       "<style>#sk-container-id-4 {color: black;background-color: white;}#sk-container-id-4 pre{padding: 0;}#sk-container-id-4 div.sk-toggleable {background-color: white;}#sk-container-id-4 label.sk-toggleable__label {cursor: pointer;display: block;width: 100%;margin-bottom: 0;padding: 0.3em;box-sizing: border-box;text-align: center;}#sk-container-id-4 label.sk-toggleable__label-arrow:before {content: \"▸\";float: left;margin-right: 0.25em;color: #696969;}#sk-container-id-4 label.sk-toggleable__label-arrow:hover:before {color: black;}#sk-container-id-4 div.sk-estimator:hover label.sk-toggleable__label-arrow:before {color: black;}#sk-container-id-4 div.sk-toggleable__content {max-height: 0;max-width: 0;overflow: hidden;text-align: left;background-color: #f0f8ff;}#sk-container-id-4 div.sk-toggleable__content pre {margin: 0.2em;color: black;border-radius: 0.25em;background-color: #f0f8ff;}#sk-container-id-4 input.sk-toggleable__control:checked~div.sk-toggleable__content {max-height: 200px;max-width: 100%;overflow: auto;}#sk-container-id-4 input.sk-toggleable__control:checked~label.sk-toggleable__label-arrow:before {content: \"▾\";}#sk-container-id-4 div.sk-estimator input.sk-toggleable__control:checked~label.sk-toggleable__label {background-color: #d4ebff;}#sk-container-id-4 div.sk-label input.sk-toggleable__control:checked~label.sk-toggleable__label {background-color: #d4ebff;}#sk-container-id-4 input.sk-hidden--visually {border: 0;clip: rect(1px 1px 1px 1px);clip: rect(1px, 1px, 1px, 1px);height: 1px;margin: -1px;overflow: hidden;padding: 0;position: absolute;width: 1px;}#sk-container-id-4 div.sk-estimator {font-family: monospace;background-color: #f0f8ff;border: 1px dotted black;border-radius: 0.25em;box-sizing: border-box;margin-bottom: 0.5em;}#sk-container-id-4 div.sk-estimator:hover {background-color: #d4ebff;}#sk-container-id-4 div.sk-parallel-item::after {content: \"\";width: 100%;border-bottom: 1px solid gray;flex-grow: 1;}#sk-container-id-4 div.sk-label:hover label.sk-toggleable__label {background-color: #d4ebff;}#sk-container-id-4 div.sk-serial::before {content: \"\";position: absolute;border-left: 1px solid gray;box-sizing: border-box;top: 0;bottom: 0;left: 50%;z-index: 0;}#sk-container-id-4 div.sk-serial {display: flex;flex-direction: column;align-items: center;background-color: white;padding-right: 0.2em;padding-left: 0.2em;position: relative;}#sk-container-id-4 div.sk-item {position: relative;z-index: 1;}#sk-container-id-4 div.sk-parallel {display: flex;align-items: stretch;justify-content: center;background-color: white;position: relative;}#sk-container-id-4 div.sk-item::before, #sk-container-id-4 div.sk-parallel-item::before {content: \"\";position: absolute;border-left: 1px solid gray;box-sizing: border-box;top: 0;bottom: 0;left: 50%;z-index: -1;}#sk-container-id-4 div.sk-parallel-item {display: flex;flex-direction: column;z-index: 1;position: relative;background-color: white;}#sk-container-id-4 div.sk-parallel-item:first-child::after {align-self: flex-end;width: 50%;}#sk-container-id-4 div.sk-parallel-item:last-child::after {align-self: flex-start;width: 50%;}#sk-container-id-4 div.sk-parallel-item:only-child::after {width: 0;}#sk-container-id-4 div.sk-dashed-wrapped {border: 1px dashed gray;margin: 0 0.4em 0.5em 0.4em;box-sizing: border-box;padding-bottom: 0.4em;background-color: white;}#sk-container-id-4 div.sk-label label {font-family: monospace;font-weight: bold;display: inline-block;line-height: 1.2em;}#sk-container-id-4 div.sk-label-container {text-align: center;}#sk-container-id-4 div.sk-container {/* jupyter's `normalize.less` sets `[hidden] { display: none; }` but bootstrap.min.css set `[hidden] { display: none !important; }` so we also need the `!important` here to be able to override the default hidden behavior on the sphinx rendered scikit-learn.org. See: https://github.com/scikit-learn/scikit-learn/issues/21755 */display: inline-block !important;position: relative;}#sk-container-id-4 div.sk-text-repr-fallback {display: none;}</style><div id=\"sk-container-id-4\" class=\"sk-top-container\"><div class=\"sk-text-repr-fallback\"><pre>LogisticRegression(max_iter=200, random_state=1)</pre><b>In a Jupyter environment, please rerun this cell to show the HTML representation or trust the notebook. <br />On GitHub, the HTML representation is unable to render, please try loading this page with nbviewer.org.</b></div><div class=\"sk-container\" hidden><div class=\"sk-item\"><div class=\"sk-estimator sk-toggleable\"><input class=\"sk-toggleable__control sk-hidden--visually\" id=\"sk-estimator-id-4\" type=\"checkbox\" checked><label for=\"sk-estimator-id-4\" class=\"sk-toggleable__label sk-toggleable__label-arrow\">LogisticRegression</label><div class=\"sk-toggleable__content\"><pre>LogisticRegression(max_iter=200, random_state=1)</pre></div></div></div></div></div>"
      ],
      "text/plain": [
       "LogisticRegression(max_iter=200, random_state=1)"
      ]
     },
     "execution_count": 54,
     "metadata": {},
     "output_type": "execute_result"
    }
   ],
   "source": [
    "classifier.fit(X_train, y_train)"
   ]
  },
  {
   "cell_type": "code",
   "execution_count": 55,
   "id": "5ab69cfa",
   "metadata": {},
   "outputs": [
    {
     "data": {
      "text/html": [
       "<div>\n",
       "<style scoped>\n",
       "    .dataframe tbody tr th:only-of-type {\n",
       "        vertical-align: middle;\n",
       "    }\n",
       "\n",
       "    .dataframe tbody tr th {\n",
       "        vertical-align: top;\n",
       "    }\n",
       "\n",
       "    .dataframe thead th {\n",
       "        text-align: right;\n",
       "    }\n",
       "</style>\n",
       "<table border=\"1\" class=\"dataframe\">\n",
       "  <thead>\n",
       "    <tr style=\"text-align: right;\">\n",
       "      <th></th>\n",
       "      <th>Prediction</th>\n",
       "      <th>Actual</th>\n",
       "    </tr>\n",
       "  </thead>\n",
       "  <tbody>\n",
       "    <tr>\n",
       "      <th>0</th>\n",
       "      <td>IV</td>\n",
       "      <td>II</td>\n",
       "    </tr>\n",
       "    <tr>\n",
       "      <th>1</th>\n",
       "      <td>IV</td>\n",
       "      <td>I</td>\n",
       "    </tr>\n",
       "    <tr>\n",
       "      <th>2</th>\n",
       "      <td>I</td>\n",
       "      <td>IV</td>\n",
       "    </tr>\n",
       "    <tr>\n",
       "      <th>3</th>\n",
       "      <td>IV</td>\n",
       "      <td>II</td>\n",
       "    </tr>\n",
       "    <tr>\n",
       "      <th>4</th>\n",
       "      <td>I</td>\n",
       "      <td>IV</td>\n",
       "    </tr>\n",
       "    <tr>\n",
       "      <th>5</th>\n",
       "      <td>II</td>\n",
       "      <td>I</td>\n",
       "    </tr>\n",
       "    <tr>\n",
       "      <th>6</th>\n",
       "      <td>IV</td>\n",
       "      <td>IV</td>\n",
       "    </tr>\n",
       "    <tr>\n",
       "      <th>7</th>\n",
       "      <td>II</td>\n",
       "      <td>IV</td>\n",
       "    </tr>\n",
       "    <tr>\n",
       "      <th>8</th>\n",
       "      <td>II</td>\n",
       "      <td>IV</td>\n",
       "    </tr>\n",
       "    <tr>\n",
       "      <th>9</th>\n",
       "      <td>IV</td>\n",
       "      <td>IV</td>\n",
       "    </tr>\n",
       "    <tr>\n",
       "      <th>10</th>\n",
       "      <td>IV</td>\n",
       "      <td>II</td>\n",
       "    </tr>\n",
       "    <tr>\n",
       "      <th>11</th>\n",
       "      <td>I</td>\n",
       "      <td>IV</td>\n",
       "    </tr>\n",
       "    <tr>\n",
       "      <th>12</th>\n",
       "      <td>I</td>\n",
       "      <td>II</td>\n",
       "    </tr>\n",
       "    <tr>\n",
       "      <th>13</th>\n",
       "      <td>IV</td>\n",
       "      <td>IV</td>\n",
       "    </tr>\n",
       "    <tr>\n",
       "      <th>14</th>\n",
       "      <td>IV</td>\n",
       "      <td>III</td>\n",
       "    </tr>\n",
       "    <tr>\n",
       "      <th>15</th>\n",
       "      <td>I</td>\n",
       "      <td>II</td>\n",
       "    </tr>\n",
       "    <tr>\n",
       "      <th>16</th>\n",
       "      <td>IV</td>\n",
       "      <td>IV</td>\n",
       "    </tr>\n",
       "    <tr>\n",
       "      <th>17</th>\n",
       "      <td>IV</td>\n",
       "      <td>III</td>\n",
       "    </tr>\n",
       "    <tr>\n",
       "      <th>18</th>\n",
       "      <td>I</td>\n",
       "      <td>IV</td>\n",
       "    </tr>\n",
       "    <tr>\n",
       "      <th>19</th>\n",
       "      <td>II</td>\n",
       "      <td>II</td>\n",
       "    </tr>\n",
       "  </tbody>\n",
       "</table>\n",
       "</div>"
      ],
      "text/plain": [
       "   Prediction Actual\n",
       "0          IV     II\n",
       "1          IV      I\n",
       "2           I     IV\n",
       "3          IV     II\n",
       "4           I     IV\n",
       "5          II      I\n",
       "6          IV     IV\n",
       "7          II     IV\n",
       "8          II     IV\n",
       "9          IV     IV\n",
       "10         IV     II\n",
       "11          I     IV\n",
       "12          I     II\n",
       "13         IV     IV\n",
       "14         IV    III\n",
       "15          I     II\n",
       "16         IV     IV\n",
       "17         IV    III\n",
       "18          I     IV\n",
       "19         II     II"
      ]
     },
     "execution_count": 55,
     "metadata": {},
     "output_type": "execute_result"
    }
   ],
   "source": [
    "# Predict ranks based on win rates \n",
    "y_pred=classifier.predict(X_test)\n",
    "results=pd.DataFrame({\"Prediction\":y_pred, \"Actual\": y_test}).reset_index(drop=True)\n",
    "results.head(20)"
   ]
  },
  {
   "cell_type": "code",
   "execution_count": 56,
   "id": "cb438645",
   "metadata": {},
   "outputs": [
    {
     "name": "stdout",
     "output_type": "stream",
     "text": [
      "0.2634146341463415\n"
     ]
    }
   ],
   "source": [
    "# Accuracy of the prediction model\n",
    "from sklearn.metrics import accuracy_score\n",
    "print(accuracy_score(y_test,y_pred))"
   ]
  },
  {
   "cell_type": "code",
   "execution_count": null,
   "id": "32aaff6a",
   "metadata": {},
   "outputs": [],
   "source": []
  }
 ],
 "metadata": {
  "kernelspec": {
   "display_name": "mlenv",
   "language": "python",
   "name": "mlenv"
  },
  "language_info": {
   "codemirror_mode": {
    "name": "ipython",
    "version": 3
   },
   "file_extension": ".py",
   "mimetype": "text/x-python",
   "name": "python",
   "nbconvert_exporter": "python",
   "pygments_lexer": "ipython3",
   "version": "3.9.7"
  }
 },
 "nbformat": 4,
 "nbformat_minor": 5
}
